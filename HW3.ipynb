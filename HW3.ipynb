{
 "cells": [
  {
   "cell_type": "markdown",
   "id": "3faeff9d",
   "metadata": {},
   "source": [
    "Python Base. Pandas. Домашнее задание (HW) №3"
   ]
  },
  {
   "cell_type": "markdown",
   "id": "99d32b6e",
   "metadata": {},
   "source": [
    "# 0. Загрузка данных"
   ]
  },
  {
   "cell_type": "code",
   "execution_count": 1,
   "id": "cbe4ec5a",
   "metadata": {},
   "outputs": [],
   "source": [
    "import pandas as pd\n",
    "import matplotlib.pyplot as plt"
   ]
  },
  {
   "cell_type": "code",
   "execution_count": 2,
   "id": "7b352bf0",
   "metadata": {},
   "outputs": [],
   "source": [
    "train = pd.read_csv('D:/Учеба/Магистратура/Python/ДЗ №3/riiid-test-answer-prediction/train.csv')"
   ]
  },
  {
   "cell_type": "code",
   "execution_count": 3,
   "id": "c62a4e14",
   "metadata": {},
   "outputs": [
    {
     "data": {
      "text/html": [
       "<div>\n",
       "<style scoped>\n",
       "    .dataframe tbody tr th:only-of-type {\n",
       "        vertical-align: middle;\n",
       "    }\n",
       "\n",
       "    .dataframe tbody tr th {\n",
       "        vertical-align: top;\n",
       "    }\n",
       "\n",
       "    .dataframe thead th {\n",
       "        text-align: right;\n",
       "    }\n",
       "</style>\n",
       "<table border=\"1\" class=\"dataframe\">\n",
       "  <thead>\n",
       "    <tr style=\"text-align: right;\">\n",
       "      <th></th>\n",
       "      <th>row_id</th>\n",
       "      <th>timestamp</th>\n",
       "      <th>user_id</th>\n",
       "      <th>content_id</th>\n",
       "      <th>content_type_id</th>\n",
       "      <th>task_container_id</th>\n",
       "      <th>user_answer</th>\n",
       "      <th>answered_correctly</th>\n",
       "      <th>prior_question_elapsed_time</th>\n",
       "      <th>prior_question_had_explanation</th>\n",
       "    </tr>\n",
       "  </thead>\n",
       "  <tbody>\n",
       "    <tr>\n",
       "      <th>0</th>\n",
       "      <td>0</td>\n",
       "      <td>0</td>\n",
       "      <td>115</td>\n",
       "      <td>5692</td>\n",
       "      <td>0</td>\n",
       "      <td>1</td>\n",
       "      <td>3</td>\n",
       "      <td>1</td>\n",
       "      <td>NaN</td>\n",
       "      <td>NaN</td>\n",
       "    </tr>\n",
       "    <tr>\n",
       "      <th>1</th>\n",
       "      <td>1</td>\n",
       "      <td>56943</td>\n",
       "      <td>115</td>\n",
       "      <td>5716</td>\n",
       "      <td>0</td>\n",
       "      <td>2</td>\n",
       "      <td>2</td>\n",
       "      <td>1</td>\n",
       "      <td>37000.0</td>\n",
       "      <td>False</td>\n",
       "    </tr>\n",
       "    <tr>\n",
       "      <th>2</th>\n",
       "      <td>2</td>\n",
       "      <td>118363</td>\n",
       "      <td>115</td>\n",
       "      <td>128</td>\n",
       "      <td>0</td>\n",
       "      <td>0</td>\n",
       "      <td>0</td>\n",
       "      <td>1</td>\n",
       "      <td>55000.0</td>\n",
       "      <td>False</td>\n",
       "    </tr>\n",
       "    <tr>\n",
       "      <th>3</th>\n",
       "      <td>3</td>\n",
       "      <td>131167</td>\n",
       "      <td>115</td>\n",
       "      <td>7860</td>\n",
       "      <td>0</td>\n",
       "      <td>3</td>\n",
       "      <td>0</td>\n",
       "      <td>1</td>\n",
       "      <td>19000.0</td>\n",
       "      <td>False</td>\n",
       "    </tr>\n",
       "    <tr>\n",
       "      <th>4</th>\n",
       "      <td>4</td>\n",
       "      <td>137965</td>\n",
       "      <td>115</td>\n",
       "      <td>7922</td>\n",
       "      <td>0</td>\n",
       "      <td>4</td>\n",
       "      <td>1</td>\n",
       "      <td>1</td>\n",
       "      <td>11000.0</td>\n",
       "      <td>False</td>\n",
       "    </tr>\n",
       "    <tr>\n",
       "      <th>...</th>\n",
       "      <td>...</td>\n",
       "      <td>...</td>\n",
       "      <td>...</td>\n",
       "      <td>...</td>\n",
       "      <td>...</td>\n",
       "      <td>...</td>\n",
       "      <td>...</td>\n",
       "      <td>...</td>\n",
       "      <td>...</td>\n",
       "      <td>...</td>\n",
       "    </tr>\n",
       "    <tr>\n",
       "      <th>101230327</th>\n",
       "      <td>101230327</td>\n",
       "      <td>428564420</td>\n",
       "      <td>2147482888</td>\n",
       "      <td>3586</td>\n",
       "      <td>0</td>\n",
       "      <td>22</td>\n",
       "      <td>0</td>\n",
       "      <td>1</td>\n",
       "      <td>18000.0</td>\n",
       "      <td>True</td>\n",
       "    </tr>\n",
       "    <tr>\n",
       "      <th>101230328</th>\n",
       "      <td>101230328</td>\n",
       "      <td>428585000</td>\n",
       "      <td>2147482888</td>\n",
       "      <td>6341</td>\n",
       "      <td>0</td>\n",
       "      <td>23</td>\n",
       "      <td>3</td>\n",
       "      <td>1</td>\n",
       "      <td>14000.0</td>\n",
       "      <td>True</td>\n",
       "    </tr>\n",
       "    <tr>\n",
       "      <th>101230329</th>\n",
       "      <td>101230329</td>\n",
       "      <td>428613475</td>\n",
       "      <td>2147482888</td>\n",
       "      <td>4212</td>\n",
       "      <td>0</td>\n",
       "      <td>24</td>\n",
       "      <td>3</td>\n",
       "      <td>1</td>\n",
       "      <td>14000.0</td>\n",
       "      <td>True</td>\n",
       "    </tr>\n",
       "    <tr>\n",
       "      <th>101230330</th>\n",
       "      <td>101230330</td>\n",
       "      <td>428649406</td>\n",
       "      <td>2147482888</td>\n",
       "      <td>6343</td>\n",
       "      <td>0</td>\n",
       "      <td>25</td>\n",
       "      <td>1</td>\n",
       "      <td>0</td>\n",
       "      <td>22000.0</td>\n",
       "      <td>True</td>\n",
       "    </tr>\n",
       "    <tr>\n",
       "      <th>101230331</th>\n",
       "      <td>101230331</td>\n",
       "      <td>428692118</td>\n",
       "      <td>2147482888</td>\n",
       "      <td>7995</td>\n",
       "      <td>0</td>\n",
       "      <td>26</td>\n",
       "      <td>3</td>\n",
       "      <td>1</td>\n",
       "      <td>29000.0</td>\n",
       "      <td>True</td>\n",
       "    </tr>\n",
       "  </tbody>\n",
       "</table>\n",
       "<p>101230332 rows × 10 columns</p>\n",
       "</div>"
      ],
      "text/plain": [
       "              row_id  timestamp     user_id  content_id  content_type_id  \\\n",
       "0                  0          0         115        5692                0   \n",
       "1                  1      56943         115        5716                0   \n",
       "2                  2     118363         115         128                0   \n",
       "3                  3     131167         115        7860                0   \n",
       "4                  4     137965         115        7922                0   \n",
       "...              ...        ...         ...         ...              ...   \n",
       "101230327  101230327  428564420  2147482888        3586                0   \n",
       "101230328  101230328  428585000  2147482888        6341                0   \n",
       "101230329  101230329  428613475  2147482888        4212                0   \n",
       "101230330  101230330  428649406  2147482888        6343                0   \n",
       "101230331  101230331  428692118  2147482888        7995                0   \n",
       "\n",
       "           task_container_id  user_answer  answered_correctly  \\\n",
       "0                          1            3                   1   \n",
       "1                          2            2                   1   \n",
       "2                          0            0                   1   \n",
       "3                          3            0                   1   \n",
       "4                          4            1                   1   \n",
       "...                      ...          ...                 ...   \n",
       "101230327                 22            0                   1   \n",
       "101230328                 23            3                   1   \n",
       "101230329                 24            3                   1   \n",
       "101230330                 25            1                   0   \n",
       "101230331                 26            3                   1   \n",
       "\n",
       "           prior_question_elapsed_time prior_question_had_explanation  \n",
       "0                                  NaN                            NaN  \n",
       "1                              37000.0                          False  \n",
       "2                              55000.0                          False  \n",
       "3                              19000.0                          False  \n",
       "4                              11000.0                          False  \n",
       "...                                ...                            ...  \n",
       "101230327                      18000.0                           True  \n",
       "101230328                      14000.0                           True  \n",
       "101230329                      14000.0                           True  \n",
       "101230330                      22000.0                           True  \n",
       "101230331                      29000.0                           True  \n",
       "\n",
       "[101230332 rows x 10 columns]"
      ]
     },
     "execution_count": 3,
     "metadata": {},
     "output_type": "execute_result"
    }
   ],
   "source": [
    "train"
   ]
  },
  {
   "cell_type": "markdown",
   "id": "8e5ec745",
   "metadata": {},
   "source": [
    "Так как строчек в таблице **TRAIN.CSV** более 100 млн., то для быстродействия сократим её до 1 млн. строк."
   ]
  },
  {
   "cell_type": "code",
   "execution_count": 4,
   "id": "74a67199",
   "metadata": {},
   "outputs": [
    {
     "data": {
      "text/plain": [
       "1000000"
      ]
     },
     "execution_count": 4,
     "metadata": {},
     "output_type": "execute_result"
    }
   ],
   "source": [
    "train = train.head(1000000)\n",
    "train.shape[0]"
   ]
  },
  {
   "cell_type": "code",
   "execution_count": 5,
   "id": "035e7026",
   "metadata": {
    "scrolled": false
   },
   "outputs": [
    {
     "name": "stdout",
     "output_type": "stream",
     "text": [
      "<class 'pandas.core.frame.DataFrame'>\n",
      "RangeIndex: 1000000 entries, 0 to 999999\n",
      "Data columns (total 10 columns):\n",
      " #   Column                          Non-Null Count    Dtype  \n",
      "---  ------                          --------------    -----  \n",
      " 0   row_id                          1000000 non-null  int64  \n",
      " 1   timestamp                       1000000 non-null  int64  \n",
      " 2   user_id                         1000000 non-null  int64  \n",
      " 3   content_id                      1000000 non-null  int64  \n",
      " 4   content_type_id                 1000000 non-null  int64  \n",
      " 5   task_container_id               1000000 non-null  int64  \n",
      " 6   user_answer                     1000000 non-null  int64  \n",
      " 7   answered_correctly              1000000 non-null  int64  \n",
      " 8   prior_question_elapsed_time     976277 non-null   float64\n",
      " 9   prior_question_had_explanation  996184 non-null   object \n",
      "dtypes: float64(1), int64(8), object(1)\n",
      "memory usage: 76.3+ MB\n"
     ]
    }
   ],
   "source": [
    "train.info()"
   ]
  },
  {
   "cell_type": "code",
   "execution_count": 6,
   "id": "c3262dd9",
   "metadata": {},
   "outputs": [],
   "source": [
    "questions =  pd.read_csv('D:/Учеба/Магистратура/Python/ДЗ №3/riiid-test-answer-prediction/questions.csv')"
   ]
  },
  {
   "cell_type": "code",
   "execution_count": 7,
   "id": "4d58a780",
   "metadata": {
    "scrolled": true
   },
   "outputs": [
    {
     "data": {
      "text/html": [
       "<div>\n",
       "<style scoped>\n",
       "    .dataframe tbody tr th:only-of-type {\n",
       "        vertical-align: middle;\n",
       "    }\n",
       "\n",
       "    .dataframe tbody tr th {\n",
       "        vertical-align: top;\n",
       "    }\n",
       "\n",
       "    .dataframe thead th {\n",
       "        text-align: right;\n",
       "    }\n",
       "</style>\n",
       "<table border=\"1\" class=\"dataframe\">\n",
       "  <thead>\n",
       "    <tr style=\"text-align: right;\">\n",
       "      <th></th>\n",
       "      <th>question_id</th>\n",
       "      <th>bundle_id</th>\n",
       "      <th>correct_answer</th>\n",
       "      <th>part</th>\n",
       "      <th>tags</th>\n",
       "    </tr>\n",
       "  </thead>\n",
       "  <tbody>\n",
       "    <tr>\n",
       "      <th>0</th>\n",
       "      <td>0</td>\n",
       "      <td>0</td>\n",
       "      <td>0</td>\n",
       "      <td>1</td>\n",
       "      <td>51 131 162 38</td>\n",
       "    </tr>\n",
       "    <tr>\n",
       "      <th>1</th>\n",
       "      <td>1</td>\n",
       "      <td>1</td>\n",
       "      <td>1</td>\n",
       "      <td>1</td>\n",
       "      <td>131 36 81</td>\n",
       "    </tr>\n",
       "    <tr>\n",
       "      <th>2</th>\n",
       "      <td>2</td>\n",
       "      <td>2</td>\n",
       "      <td>0</td>\n",
       "      <td>1</td>\n",
       "      <td>131 101 162 92</td>\n",
       "    </tr>\n",
       "    <tr>\n",
       "      <th>3</th>\n",
       "      <td>3</td>\n",
       "      <td>3</td>\n",
       "      <td>0</td>\n",
       "      <td>1</td>\n",
       "      <td>131 149 162 29</td>\n",
       "    </tr>\n",
       "    <tr>\n",
       "      <th>4</th>\n",
       "      <td>4</td>\n",
       "      <td>4</td>\n",
       "      <td>3</td>\n",
       "      <td>1</td>\n",
       "      <td>131 5 162 38</td>\n",
       "    </tr>\n",
       "    <tr>\n",
       "      <th>...</th>\n",
       "      <td>...</td>\n",
       "      <td>...</td>\n",
       "      <td>...</td>\n",
       "      <td>...</td>\n",
       "      <td>...</td>\n",
       "    </tr>\n",
       "    <tr>\n",
       "      <th>13518</th>\n",
       "      <td>13518</td>\n",
       "      <td>13518</td>\n",
       "      <td>3</td>\n",
       "      <td>5</td>\n",
       "      <td>14</td>\n",
       "    </tr>\n",
       "    <tr>\n",
       "      <th>13519</th>\n",
       "      <td>13519</td>\n",
       "      <td>13519</td>\n",
       "      <td>3</td>\n",
       "      <td>5</td>\n",
       "      <td>8</td>\n",
       "    </tr>\n",
       "    <tr>\n",
       "      <th>13520</th>\n",
       "      <td>13520</td>\n",
       "      <td>13520</td>\n",
       "      <td>2</td>\n",
       "      <td>5</td>\n",
       "      <td>73</td>\n",
       "    </tr>\n",
       "    <tr>\n",
       "      <th>13521</th>\n",
       "      <td>13521</td>\n",
       "      <td>13521</td>\n",
       "      <td>0</td>\n",
       "      <td>5</td>\n",
       "      <td>125</td>\n",
       "    </tr>\n",
       "    <tr>\n",
       "      <th>13522</th>\n",
       "      <td>13522</td>\n",
       "      <td>13522</td>\n",
       "      <td>3</td>\n",
       "      <td>5</td>\n",
       "      <td>55</td>\n",
       "    </tr>\n",
       "  </tbody>\n",
       "</table>\n",
       "<p>13523 rows × 5 columns</p>\n",
       "</div>"
      ],
      "text/plain": [
       "       question_id  bundle_id  correct_answer  part            tags\n",
       "0                0          0               0     1   51 131 162 38\n",
       "1                1          1               1     1       131 36 81\n",
       "2                2          2               0     1  131 101 162 92\n",
       "3                3          3               0     1  131 149 162 29\n",
       "4                4          4               3     1    131 5 162 38\n",
       "...            ...        ...             ...   ...             ...\n",
       "13518        13518      13518               3     5              14\n",
       "13519        13519      13519               3     5               8\n",
       "13520        13520      13520               2     5              73\n",
       "13521        13521      13521               0     5             125\n",
       "13522        13522      13522               3     5              55\n",
       "\n",
       "[13523 rows x 5 columns]"
      ]
     },
     "execution_count": 7,
     "metadata": {},
     "output_type": "execute_result"
    }
   ],
   "source": [
    "questions"
   ]
  },
  {
   "cell_type": "code",
   "execution_count": 8,
   "id": "460973c0",
   "metadata": {},
   "outputs": [
    {
     "name": "stdout",
     "output_type": "stream",
     "text": [
      "<class 'pandas.core.frame.DataFrame'>\n",
      "RangeIndex: 13523 entries, 0 to 13522\n",
      "Data columns (total 5 columns):\n",
      " #   Column          Non-Null Count  Dtype \n",
      "---  ------          --------------  ----- \n",
      " 0   question_id     13523 non-null  int64 \n",
      " 1   bundle_id       13523 non-null  int64 \n",
      " 2   correct_answer  13523 non-null  int64 \n",
      " 3   part            13523 non-null  int64 \n",
      " 4   tags            13522 non-null  object\n",
      "dtypes: int64(4), object(1)\n",
      "memory usage: 528.4+ KB\n"
     ]
    }
   ],
   "source": [
    "questions.info()"
   ]
  },
  {
   "cell_type": "code",
   "execution_count": 9,
   "id": "b054a6d9",
   "metadata": {},
   "outputs": [],
   "source": [
    "lectures =  pd.read_csv('D:/Учеба/Магистратура/Python/ДЗ №3/riiid-test-answer-prediction/lectures.csv')"
   ]
  },
  {
   "cell_type": "code",
   "execution_count": 10,
   "id": "559d09ec",
   "metadata": {
    "scrolled": true
   },
   "outputs": [
    {
     "data": {
      "text/html": [
       "<div>\n",
       "<style scoped>\n",
       "    .dataframe tbody tr th:only-of-type {\n",
       "        vertical-align: middle;\n",
       "    }\n",
       "\n",
       "    .dataframe tbody tr th {\n",
       "        vertical-align: top;\n",
       "    }\n",
       "\n",
       "    .dataframe thead th {\n",
       "        text-align: right;\n",
       "    }\n",
       "</style>\n",
       "<table border=\"1\" class=\"dataframe\">\n",
       "  <thead>\n",
       "    <tr style=\"text-align: right;\">\n",
       "      <th></th>\n",
       "      <th>lecture_id</th>\n",
       "      <th>tag</th>\n",
       "      <th>part</th>\n",
       "      <th>type_of</th>\n",
       "    </tr>\n",
       "  </thead>\n",
       "  <tbody>\n",
       "    <tr>\n",
       "      <th>0</th>\n",
       "      <td>89</td>\n",
       "      <td>159</td>\n",
       "      <td>5</td>\n",
       "      <td>concept</td>\n",
       "    </tr>\n",
       "    <tr>\n",
       "      <th>1</th>\n",
       "      <td>100</td>\n",
       "      <td>70</td>\n",
       "      <td>1</td>\n",
       "      <td>concept</td>\n",
       "    </tr>\n",
       "    <tr>\n",
       "      <th>2</th>\n",
       "      <td>185</td>\n",
       "      <td>45</td>\n",
       "      <td>6</td>\n",
       "      <td>concept</td>\n",
       "    </tr>\n",
       "    <tr>\n",
       "      <th>3</th>\n",
       "      <td>192</td>\n",
       "      <td>79</td>\n",
       "      <td>5</td>\n",
       "      <td>solving question</td>\n",
       "    </tr>\n",
       "    <tr>\n",
       "      <th>4</th>\n",
       "      <td>317</td>\n",
       "      <td>156</td>\n",
       "      <td>5</td>\n",
       "      <td>solving question</td>\n",
       "    </tr>\n",
       "    <tr>\n",
       "      <th>...</th>\n",
       "      <td>...</td>\n",
       "      <td>...</td>\n",
       "      <td>...</td>\n",
       "      <td>...</td>\n",
       "    </tr>\n",
       "    <tr>\n",
       "      <th>413</th>\n",
       "      <td>32535</td>\n",
       "      <td>8</td>\n",
       "      <td>5</td>\n",
       "      <td>solving question</td>\n",
       "    </tr>\n",
       "    <tr>\n",
       "      <th>414</th>\n",
       "      <td>32570</td>\n",
       "      <td>113</td>\n",
       "      <td>3</td>\n",
       "      <td>solving question</td>\n",
       "    </tr>\n",
       "    <tr>\n",
       "      <th>415</th>\n",
       "      <td>32604</td>\n",
       "      <td>24</td>\n",
       "      <td>6</td>\n",
       "      <td>concept</td>\n",
       "    </tr>\n",
       "    <tr>\n",
       "      <th>416</th>\n",
       "      <td>32625</td>\n",
       "      <td>142</td>\n",
       "      <td>2</td>\n",
       "      <td>concept</td>\n",
       "    </tr>\n",
       "    <tr>\n",
       "      <th>417</th>\n",
       "      <td>32736</td>\n",
       "      <td>82</td>\n",
       "      <td>3</td>\n",
       "      <td>concept</td>\n",
       "    </tr>\n",
       "  </tbody>\n",
       "</table>\n",
       "<p>418 rows × 4 columns</p>\n",
       "</div>"
      ],
      "text/plain": [
       "     lecture_id  tag  part           type_of\n",
       "0            89  159     5           concept\n",
       "1           100   70     1           concept\n",
       "2           185   45     6           concept\n",
       "3           192   79     5  solving question\n",
       "4           317  156     5  solving question\n",
       "..          ...  ...   ...               ...\n",
       "413       32535    8     5  solving question\n",
       "414       32570  113     3  solving question\n",
       "415       32604   24     6           concept\n",
       "416       32625  142     2           concept\n",
       "417       32736   82     3           concept\n",
       "\n",
       "[418 rows x 4 columns]"
      ]
     },
     "execution_count": 10,
     "metadata": {},
     "output_type": "execute_result"
    }
   ],
   "source": [
    "lectures"
   ]
  },
  {
   "cell_type": "code",
   "execution_count": 11,
   "id": "8581a96e",
   "metadata": {
    "scrolled": true
   },
   "outputs": [
    {
     "name": "stdout",
     "output_type": "stream",
     "text": [
      "<class 'pandas.core.frame.DataFrame'>\n",
      "RangeIndex: 418 entries, 0 to 417\n",
      "Data columns (total 4 columns):\n",
      " #   Column      Non-Null Count  Dtype \n",
      "---  ------      --------------  ----- \n",
      " 0   lecture_id  418 non-null    int64 \n",
      " 1   tag         418 non-null    int64 \n",
      " 2   part        418 non-null    int64 \n",
      " 3   type_of     418 non-null    object\n",
      "dtypes: int64(3), object(1)\n",
      "memory usage: 13.2+ KB\n"
     ]
    }
   ],
   "source": [
    "lectures.info()"
   ]
  },
  {
   "cell_type": "markdown",
   "id": "d807b26a",
   "metadata": {},
   "source": [
    "# 1. Описание данных"
   ]
  },
  {
   "cell_type": "markdown",
   "id": "26fb884b",
   "metadata": {},
   "source": [
    "Данные были взяты из Kaggle соревнования и представляют собой вопросы и лекции в рамках Test of English for International Communication(TOEIC).\n",
    "Тест английского языка для международного общения - это международный стандартизированный тест на знание английского языка для лиц, не являющихся носителями языка. Он специально разработан для измерения повседневных навыков владения английским языком людей, работающих в международной среде. Существуют различные формы экзамена TOEIC, в нашем случае это TOEIC Listening Reading, который состоит из двух одинаково градуированных тестов оценки понимания деятельности на общую сумму возможных 990 баллов. В датасете 100 миллионов взаимодействий студента с вопросами или лекциями. \n",
    "Данные взаимодействия описаны тремя таблицами:\n",
    "\n",
    "+ **`TRAIN.CSV`**\n",
    "\n",
    "\n",
    "+ **`QUESTIONS.CSV`**\n",
    "\n",
    "\n",
    "+ **`LECTURES.CSV`**\n",
    "\n",
    "Пройдемся подробнее по каждой таблице."
   ]
  },
  {
   "cell_type": "markdown",
   "id": "1f229117",
   "metadata": {},
   "source": [
    "## 1.1. Таблица **`TRAIN.CSV`**"
   ]
  },
  {
   "cell_type": "markdown",
   "id": "94f4c288",
   "metadata": {},
   "source": [
    "Это основная таблица, которая связывает студента с вопросом или лекцией, с которыми он взаимодействует, а также дополнительная информация об этом взаимодействии. \n",
    "\n",
    "Список колонок и краткое их описание:\n",
    "\n",
    "+ **row_id**: порядковый номер строки в этой таблице.\n",
    "\n",
    "+ **timestamp**: время в миллисекундах между текущим взаимодействием и первым событием связанным с данным ученика.\n",
    "\n",
    "+ **user_id**: идентификационный код ученика.\n",
    "\n",
    "+ **content_id**: идентификационный код вопроса или лекции.\n",
    "\n",
    "+ **content_type_id**: 0 если это вопрос, 1 если лекция.\n",
    "\n",
    "+ **task_container_id**: идентификационный код группы вопросов, в которой задан текущий вопрос.\n",
    "\n",
    "+ **user_answer**: вариант ответа, который выбрал ученик. Всего вариантов может быть 4. В случае если взаимодействие - это лекция, а не вопрос, то данное поле равно -1.\n",
    "\n",
    "+ **answered_correctly**: правильно ли ученик ответил на вопрос. В случае, если взаимодействие - это лекция, а не вопрос, то данное поле равно -1. Данное поле является целевым значением.\n",
    "\n",
    "+ **prior_question_elapsed_time**: среднее время в миллисекундах, которое ученику потребовалось, чтобы ответить на все вопросы в предыдущей группе, игнорируя любые лекции между ними. Равен 0 для первой группы вопросов, заданной ученику.\n",
    "\n",
    "+ **prior_question_had_explanation**: смотрел ли ученик объяснение и правильный ответ на предыдущий вопрос.\n"
   ]
  },
  {
   "cell_type": "markdown",
   "id": "5ece4e44",
   "metadata": {},
   "source": [
    "## 1.2. Таблица **`QUESTIONS.CSV`**"
   ]
  },
  {
   "cell_type": "markdown",
   "id": "fa776ab6",
   "metadata": {},
   "source": [
    "Таблица описывающая вопрос. Количество вопросов в отличии от количества учеников заранее зафиксировано, также задания повторно предлагаются различным ученикам. \n",
    "\n",
    "Список колонок:\n",
    "\n",
    "+ **question_id**: внешний ключ(foreign key) для связывание данной информации с таблицей train.\n",
    "\n",
    "+ **bundle_id**: код по которому вопросы объединяются в группы.\n",
    "\n",
    "+ **correct_answer**: правильный ответ на вопрос.\n",
    "\n",
    "+ **part**: один из семи типов вопросов TOEIC.\n",
    "\n",
    "+ **tags**: один или несколько кодов с тэгами для данного вопроса."
   ]
  },
  {
   "cell_type": "markdown",
   "id": "60aecd14",
   "metadata": {},
   "source": [
    "## 1.3. Таблица **`LECTURES.CSV`**"
   ]
  },
  {
   "cell_type": "markdown",
   "id": "ac35f6f6",
   "metadata": {},
   "source": [
    "Данная таблица аналогична таблице про вопросы, но она про лекции, перейдем к ее описанию:\n",
    "\n",
    "+ **lecture_id**: внешний ключ(foreign key) для связывание данной информации с таблицей train.\n",
    "\n",
    "+ **type_of**: краткое описание основной цели лекции.\n",
    "\n",
    "+ **part**: один из семи типов, который был в таблице с вопросами.\n",
    "\n",
    "+ **tag**: один тэг в качестве числа, который представляет лекцию, его значение не дано, также как и в вопросах.\n",
    "\n"
   ]
  },
  {
   "cell_type": "markdown",
   "id": "3465dc09",
   "metadata": {},
   "source": [
    "# 2. Обработка данных"
   ]
  },
  {
   "cell_type": "markdown",
   "id": "293937cb",
   "metadata": {},
   "source": [
    "## 2.1. Изменение типа данных"
   ]
  },
  {
   "cell_type": "markdown",
   "id": "3e2e5609",
   "metadata": {},
   "source": [
    "В таблице **TRAIN.CSV** можно изменить тип данных в столбце **prior_question_had_explanation** c Object на bool. \n",
    "\n",
    "Кроме того, в столбцах **timestamp** и **prior_question_elapsed_time** значения в миллисекундах можно поменять на секунды для удобства.\n",
    "\n",
    "Также поместим значения в столбце **tags** в список"
   ]
  },
  {
   "cell_type": "code",
   "execution_count": 12,
   "id": "6d433baa",
   "metadata": {},
   "outputs": [
    {
     "name": "stderr",
     "output_type": "stream",
     "text": [
      "C:\\Users\\М\\AppData\\Local\\Temp\\ipykernel_3212\\545468381.py:2: SettingWithCopyWarning: \n",
      "A value is trying to be set on a copy of a slice from a DataFrame.\n",
      "Try using .loc[row_indexer,col_indexer] = value instead\n",
      "\n",
      "See the caveats in the documentation: https://pandas.pydata.org/pandas-docs/stable/user_guide/indexing.html#returning-a-view-versus-a-copy\n",
      "  train['prior_question_had_explanation'] = train['prior_question_had_explanation'].astype('bool')\n"
     ]
    }
   ],
   "source": [
    "# Поменяем тип данных в столбце prior_question_had_explanation\n",
    "train['prior_question_had_explanation'] = train['prior_question_had_explanation'].astype('bool')"
   ]
  },
  {
   "cell_type": "code",
   "execution_count": 13,
   "id": "e2404365",
   "metadata": {
    "scrolled": true
   },
   "outputs": [
    {
     "name": "stderr",
     "output_type": "stream",
     "text": [
      "C:\\Users\\М\\AppData\\Local\\Temp\\ipykernel_3212\\4089970713.py:2: SettingWithCopyWarning: \n",
      "A value is trying to be set on a copy of a slice from a DataFrame.\n",
      "Try using .loc[row_indexer,col_indexer] = value instead\n",
      "\n",
      "See the caveats in the documentation: https://pandas.pydata.org/pandas-docs/stable/user_guide/indexing.html#returning-a-view-versus-a-copy\n",
      "  train['timestamp'] = train['timestamp']/1000\n",
      "C:\\Users\\М\\AppData\\Local\\Temp\\ipykernel_3212\\4089970713.py:3: SettingWithCopyWarning: \n",
      "A value is trying to be set on a copy of a slice from a DataFrame.\n",
      "Try using .loc[row_indexer,col_indexer] = value instead\n",
      "\n",
      "See the caveats in the documentation: https://pandas.pydata.org/pandas-docs/stable/user_guide/indexing.html#returning-a-view-versus-a-copy\n",
      "  train['prior_question_elapsed_time'] = train['prior_question_elapsed_time']/1000\n"
     ]
    }
   ],
   "source": [
    "# Меняем значения в столбцах timestamp и prior_question_elapsed_time (на секунды)\n",
    "train['timestamp'] = train['timestamp']/1000\n",
    "train['prior_question_elapsed_time'] = train['prior_question_elapsed_time']/1000\n"
   ]
  },
  {
   "cell_type": "markdown",
   "id": "ad552bd8",
   "metadata": {},
   "source": [
    "Преобразуем значения в столбцу tags таблицы questions в список. Но для начала заменим пропущенное значение в столбце на -1"
   ]
  },
  {
   "cell_type": "code",
   "execution_count": 14,
   "id": "87469162",
   "metadata": {},
   "outputs": [
    {
     "data": {
      "text/html": [
       "<div>\n",
       "<style scoped>\n",
       "    .dataframe tbody tr th:only-of-type {\n",
       "        vertical-align: middle;\n",
       "    }\n",
       "\n",
       "    .dataframe tbody tr th {\n",
       "        vertical-align: top;\n",
       "    }\n",
       "\n",
       "    .dataframe thead th {\n",
       "        text-align: right;\n",
       "    }\n",
       "</style>\n",
       "<table border=\"1\" class=\"dataframe\">\n",
       "  <thead>\n",
       "    <tr style=\"text-align: right;\">\n",
       "      <th></th>\n",
       "      <th>question_id</th>\n",
       "      <th>bundle_id</th>\n",
       "      <th>correct_answer</th>\n",
       "      <th>part</th>\n",
       "      <th>tags</th>\n",
       "    </tr>\n",
       "  </thead>\n",
       "  <tbody>\n",
       "    <tr>\n",
       "      <th>10033</th>\n",
       "      <td>10033</td>\n",
       "      <td>10033</td>\n",
       "      <td>2</td>\n",
       "      <td>6</td>\n",
       "      <td>NaN</td>\n",
       "    </tr>\n",
       "  </tbody>\n",
       "</table>\n",
       "</div>"
      ],
      "text/plain": [
       "       question_id  bundle_id  correct_answer  part tags\n",
       "10033        10033      10033               2     6  NaN"
      ]
     },
     "execution_count": 14,
     "metadata": {},
     "output_type": "execute_result"
    }
   ],
   "source": [
    "# Заменим пропуски в столбце tags\n",
    "questions[questions.tags.isna()]"
   ]
  },
  {
   "cell_type": "code",
   "execution_count": 15,
   "id": "5d3711d2",
   "metadata": {},
   "outputs": [],
   "source": [
    "questions.loc[10033, 'tags'] = '-1'"
   ]
  },
  {
   "cell_type": "code",
   "execution_count": 16,
   "id": "df837ad1",
   "metadata": {},
   "outputs": [
    {
     "data": {
      "text/html": [
       "<div>\n",
       "<style scoped>\n",
       "    .dataframe tbody tr th:only-of-type {\n",
       "        vertical-align: middle;\n",
       "    }\n",
       "\n",
       "    .dataframe tbody tr th {\n",
       "        vertical-align: top;\n",
       "    }\n",
       "\n",
       "    .dataframe thead th {\n",
       "        text-align: right;\n",
       "    }\n",
       "</style>\n",
       "<table border=\"1\" class=\"dataframe\">\n",
       "  <thead>\n",
       "    <tr style=\"text-align: right;\">\n",
       "      <th></th>\n",
       "      <th>question_id</th>\n",
       "      <th>bundle_id</th>\n",
       "      <th>correct_answer</th>\n",
       "      <th>part</th>\n",
       "      <th>tags</th>\n",
       "    </tr>\n",
       "  </thead>\n",
       "  <tbody>\n",
       "    <tr>\n",
       "      <th>0</th>\n",
       "      <td>0</td>\n",
       "      <td>0</td>\n",
       "      <td>0</td>\n",
       "      <td>1</td>\n",
       "      <td>[51, 131, 162, 38]</td>\n",
       "    </tr>\n",
       "    <tr>\n",
       "      <th>1</th>\n",
       "      <td>1</td>\n",
       "      <td>1</td>\n",
       "      <td>1</td>\n",
       "      <td>1</td>\n",
       "      <td>[131, 36, 81]</td>\n",
       "    </tr>\n",
       "    <tr>\n",
       "      <th>2</th>\n",
       "      <td>2</td>\n",
       "      <td>2</td>\n",
       "      <td>0</td>\n",
       "      <td>1</td>\n",
       "      <td>[131, 101, 162, 92]</td>\n",
       "    </tr>\n",
       "    <tr>\n",
       "      <th>3</th>\n",
       "      <td>3</td>\n",
       "      <td>3</td>\n",
       "      <td>0</td>\n",
       "      <td>1</td>\n",
       "      <td>[131, 149, 162, 29]</td>\n",
       "    </tr>\n",
       "    <tr>\n",
       "      <th>4</th>\n",
       "      <td>4</td>\n",
       "      <td>4</td>\n",
       "      <td>3</td>\n",
       "      <td>1</td>\n",
       "      <td>[131, 5, 162, 38]</td>\n",
       "    </tr>\n",
       "  </tbody>\n",
       "</table>\n",
       "</div>"
      ],
      "text/plain": [
       "   question_id  bundle_id  correct_answer  part                 tags\n",
       "0            0          0               0     1   [51, 131, 162, 38]\n",
       "1            1          1               1     1        [131, 36, 81]\n",
       "2            2          2               0     1  [131, 101, 162, 92]\n",
       "3            3          3               0     1  [131, 149, 162, 29]\n",
       "4            4          4               3     1    [131, 5, 162, 38]"
      ]
     },
     "execution_count": 16,
     "metadata": {},
     "output_type": "execute_result"
    }
   ],
   "source": [
    "tags_list = [x.split() for x in questions.tags.values]\n",
    "questions['tags'] = tags_list\n",
    "questions.head()"
   ]
  },
  {
   "cell_type": "markdown",
   "id": "d2ffba85",
   "metadata": {},
   "source": [
    "## 2.2. Объединение таблиц"
   ]
  },
  {
   "cell_type": "markdown",
   "id": "78b4863d",
   "metadata": {},
   "source": [
    "Добавим в таблицу **question** данные о количестве и процентном соотношении правильных ответов"
   ]
  },
  {
   "cell_type": "code",
   "execution_count": 17,
   "id": "54f54851",
   "metadata": {},
   "outputs": [
    {
     "data": {
      "text/html": [
       "<div>\n",
       "<style scoped>\n",
       "    .dataframe tbody tr th:only-of-type {\n",
       "        vertical-align: middle;\n",
       "    }\n",
       "\n",
       "    .dataframe tbody tr th {\n",
       "        vertical-align: top;\n",
       "    }\n",
       "\n",
       "    .dataframe thead th {\n",
       "        text-align: right;\n",
       "    }\n",
       "</style>\n",
       "<table border=\"1\" class=\"dataframe\">\n",
       "  <thead>\n",
       "    <tr style=\"text-align: right;\">\n",
       "      <th></th>\n",
       "      <th>question_id</th>\n",
       "      <th>bundle_id</th>\n",
       "      <th>correct_answer</th>\n",
       "      <th>part</th>\n",
       "      <th>tags</th>\n",
       "      <th>wrong</th>\n",
       "      <th>right</th>\n",
       "      <th>question_count</th>\n",
       "      <th>percent_correct</th>\n",
       "    </tr>\n",
       "  </thead>\n",
       "  <tbody>\n",
       "    <tr>\n",
       "      <th>0</th>\n",
       "      <td>0</td>\n",
       "      <td>0</td>\n",
       "      <td>0</td>\n",
       "      <td>1</td>\n",
       "      <td>[51, 131, 162, 38]</td>\n",
       "      <td>10.0</td>\n",
       "      <td>63.0</td>\n",
       "      <td>73.0</td>\n",
       "      <td>0.863014</td>\n",
       "    </tr>\n",
       "    <tr>\n",
       "      <th>1</th>\n",
       "      <td>1</td>\n",
       "      <td>1</td>\n",
       "      <td>1</td>\n",
       "      <td>1</td>\n",
       "      <td>[131, 36, 81]</td>\n",
       "      <td>4.0</td>\n",
       "      <td>51.0</td>\n",
       "      <td>55.0</td>\n",
       "      <td>0.927273</td>\n",
       "    </tr>\n",
       "    <tr>\n",
       "      <th>2</th>\n",
       "      <td>2</td>\n",
       "      <td>2</td>\n",
       "      <td>0</td>\n",
       "      <td>1</td>\n",
       "      <td>[131, 101, 162, 92]</td>\n",
       "      <td>195.0</td>\n",
       "      <td>249.0</td>\n",
       "      <td>444.0</td>\n",
       "      <td>0.560811</td>\n",
       "    </tr>\n",
       "    <tr>\n",
       "      <th>3</th>\n",
       "      <td>3</td>\n",
       "      <td>3</td>\n",
       "      <td>0</td>\n",
       "      <td>1</td>\n",
       "      <td>[131, 149, 162, 29]</td>\n",
       "      <td>40.0</td>\n",
       "      <td>159.0</td>\n",
       "      <td>199.0</td>\n",
       "      <td>0.798995</td>\n",
       "    </tr>\n",
       "    <tr>\n",
       "      <th>4</th>\n",
       "      <td>4</td>\n",
       "      <td>4</td>\n",
       "      <td>3</td>\n",
       "      <td>1</td>\n",
       "      <td>[131, 5, 162, 38]</td>\n",
       "      <td>122.0</td>\n",
       "      <td>185.0</td>\n",
       "      <td>307.0</td>\n",
       "      <td>0.602606</td>\n",
       "    </tr>\n",
       "  </tbody>\n",
       "</table>\n",
       "</div>"
      ],
      "text/plain": [
       "   question_id  bundle_id  correct_answer  part                 tags  wrong  \\\n",
       "0            0          0               0     1   [51, 131, 162, 38]   10.0   \n",
       "1            1          1               1     1        [131, 36, 81]    4.0   \n",
       "2            2          2               0     1  [131, 101, 162, 92]  195.0   \n",
       "3            3          3               0     1  [131, 149, 162, 29]   40.0   \n",
       "4            4          4               3     1    [131, 5, 162, 38]  122.0   \n",
       "\n",
       "   right  question_count  percent_correct  \n",
       "0   63.0            73.0         0.863014  \n",
       "1   51.0            55.0         0.927273  \n",
       "2  249.0           444.0         0.560811  \n",
       "3  159.0           199.0         0.798995  \n",
       "4  185.0           307.0         0.602606  "
      ]
     },
     "execution_count": 17,
     "metadata": {},
     "output_type": "execute_result"
    }
   ],
   "source": [
    "correct = train[train.answered_correctly != -1].groupby([\"content_id\", 'answered_correctly'], as_index=False).size()\n",
    "correct = correct.pivot(index= \"content_id\", columns='answered_correctly', values='size')\n",
    "correct.columns = ['wrong', 'right']\n",
    "correct = correct.fillna(0)\n",
    "correct[['wrong', 'right']] = correct[['wrong', 'right']].astype(int)\n",
    "questions = questions.merge(correct, left_on = \"question_id\", right_on = \"content_id\", how = \"left\")\n",
    "questions['question_count'] = questions['wrong']+questions['right']\n",
    "questions['percent_correct'] = questions['right']/questions['question_count']\n",
    "questions.head()"
   ]
  },
  {
   "cell_type": "markdown",
   "id": "4070e06a",
   "metadata": {},
   "source": [
    "Временно разделим train на две таблицы, где будут значения только с вопросами и только с лекциями"
   ]
  },
  {
   "cell_type": "markdown",
   "id": "1cd361d7",
   "metadata": {},
   "source": [
    "# 3. Анализ данных"
   ]
  },
  {
   "cell_type": "markdown",
   "id": "904a62a6",
   "metadata": {},
   "source": [
    "## 3.1. Таблица train"
   ]
  },
  {
   "cell_type": "markdown",
   "id": "ec9ffdc1",
   "metadata": {},
   "source": [
    "Проведем анализ таблицы **train** в обозначенном объеме"
   ]
  },
  {
   "cell_type": "markdown",
   "id": "6f21bd36",
   "metadata": {},
   "source": [
    "**Количество учеников**"
   ]
  },
  {
   "cell_type": "code",
   "execution_count": 18,
   "id": "d61bbf95",
   "metadata": {},
   "outputs": [
    {
     "data": {
      "text/plain": [
       "3824"
      ]
     },
     "execution_count": 18,
     "metadata": {},
     "output_type": "execute_result"
    }
   ],
   "source": [
    "len(train['user_id'].unique())"
   ]
  },
  {
   "cell_type": "markdown",
   "id": "00f028e0",
   "metadata": {},
   "source": [
    "Из представленных данных в 1 млн. строк данные по **3824** студентам"
   ]
  },
  {
   "cell_type": "markdown",
   "id": "43649d5d",
   "metadata": {},
   "source": [
    "**Процентное соотношение вопросов и лекций**"
   ]
  },
  {
   "cell_type": "code",
   "execution_count": 19,
   "id": "6980c0c5",
   "metadata": {},
   "outputs": [
    {
     "data": {
      "text/plain": [
       "0.019907"
      ]
     },
     "execution_count": 19,
     "metadata": {},
     "output_type": "execute_result"
    }
   ],
   "source": [
    "len(train[train['content_type_id']==1])/len(train['content_type_id'])"
   ]
  },
  {
   "cell_type": "markdown",
   "id": "92815dc3",
   "metadata": {},
   "source": [
    "Доля лекций меньше 2%"
   ]
  },
  {
   "cell_type": "markdown",
   "id": "9873d8c0",
   "metadata": {},
   "source": [
    "**Соотношение количества правильных ответов**"
   ]
  },
  {
   "cell_type": "code",
   "execution_count": 20,
   "id": "331519a2",
   "metadata": {},
   "outputs": [
    {
     "data": {
      "image/png": "[encoded data removed]",
      "text/plain": [
       "<Figure size 864x288 with 1 Axes>"
      ]
     },
     "metadata": {
      "needs_background": "light"
     },
     "output_type": "display_data"
    }
   ],
   "source": [
    "# Зададим переменную, где будут только ответы на вопросы (лекции исключаем)\n",
    "correct = train[train.answered_correctly != -1].answered_correctly.value_counts(ascending=True)\n",
    "# Построим график\n",
    "fig = plt.figure(figsize=(12,4))\n",
    "correct.plot.barh()\n",
    "for i, v in zip(correct.index, correct.values):\n",
    "    plt.text(v, i, '{:,}'.format(v), color='white', fontweight='bold', fontsize=14, ha='right', va='center')\n",
    "plt.title(\"Количество верных ответов\")\n",
    "plt.xticks(rotation=0)\n",
    "plt.show()"
   ]
  },
  {
   "cell_type": "markdown",
   "id": "9571bcf0",
   "metadata": {},
   "source": [
    "Определим средний балл студентов"
   ]
  },
  {
   "cell_type": "code",
   "execution_count": 21,
   "id": "2e9a5869",
   "metadata": {},
   "outputs": [
    {
     "data": {
      "text/plain": [
       "0.6503576701394663"
      ]
     },
     "execution_count": 21,
     "metadata": {},
     "output_type": "execute_result"
    }
   ],
   "source": [
    "train[train['answered_correctly'] != -1]['answered_correctly'].mean()"
   ]
  },
  {
   "cell_type": "markdown",
   "id": "c849e223",
   "metadata": {},
   "source": [
    "В **65%** случаях студенты отвечают правильно"
   ]
  },
  {
   "cell_type": "markdown",
   "id": "643d341e",
   "metadata": {},
   "source": [
    "**Среднее время на ответ**"
   ]
  },
  {
   "cell_type": "code",
   "execution_count": 22,
   "id": "35d834e2",
   "metadata": {},
   "outputs": [
    {
     "data": {
      "text/plain": [
       "25.3029626929877"
      ]
     },
     "execution_count": 22,
     "metadata": {},
     "output_type": "execute_result"
    }
   ],
   "source": [
    "# Посчитаем среднее время на ответ\n",
    "train['prior_question_elapsed_time'].mean()"
   ]
  },
  {
   "cell_type": "code",
   "execution_count": 23,
   "id": "497c0e2e",
   "metadata": {},
   "outputs": [
    {
     "data": {
      "image/png": "[encoded data removed]",
      "text/plain": [
       "<Figure size 864x432 with 1 Axes>"
      ]
     },
     "metadata": {
      "needs_background": "light"
     },
     "output_type": "display_data"
    }
   ],
   "source": [
    "fig = plt.figure(figsize=(12,6))\n",
    "train['prior_question_elapsed_time'].plot.hist(bins=100)\n",
    "plt.title(\"Гистограмма времени ответа на вопрос\")\n",
    "plt.xticks(rotation=0)\n",
    "plt.xlabel(\"Секунды\")\n",
    "plt.show()"
   ]
  },
  {
   "cell_type": "markdown",
   "id": "6f06ffc4",
   "metadata": {},
   "source": [
    "В среднем на вопрос уходит около **25 секунд**. На гистограмме виден выброс значений в ~300 секунд."
   ]
  },
  {
   "cell_type": "markdown",
   "id": "66aecaff",
   "metadata": {},
   "source": [
    "**Посмотрим, есть ли разница в % правильных ответов в зависиомсти от времени с начала сессии**"
   ]
  },
  {
   "cell_type": "code",
   "execution_count": 24,
   "id": "d36f3c44",
   "metadata": {},
   "outputs": [
    {
     "data": {
      "text/html": [
       "<div>\n",
       "<style scoped>\n",
       "    .dataframe tbody tr th:only-of-type {\n",
       "        vertical-align: middle;\n",
       "    }\n",
       "\n",
       "    .dataframe tbody tr th {\n",
       "        vertical-align: top;\n",
       "    }\n",
       "\n",
       "    .dataframe thead th {\n",
       "        text-align: right;\n",
       "    }\n",
       "</style>\n",
       "<table border=\"1\" class=\"dataframe\">\n",
       "  <thead>\n",
       "    <tr style=\"text-align: right;\">\n",
       "      <th></th>\n",
       "      <th>timestamp</th>\n",
       "    </tr>\n",
       "    <tr>\n",
       "      <th>answered_correctly</th>\n",
       "      <th></th>\n",
       "    </tr>\n",
       "  </thead>\n",
       "  <tbody>\n",
       "    <tr>\n",
       "      <th>0</th>\n",
       "      <td>6.832591e+06</td>\n",
       "    </tr>\n",
       "    <tr>\n",
       "      <th>1</th>\n",
       "      <td>7.602158e+06</td>\n",
       "    </tr>\n",
       "  </tbody>\n",
       "</table>\n",
       "</div>"
      ],
      "text/plain": [
       "                       timestamp\n",
       "answered_correctly              \n",
       "0                   6.832591e+06\n",
       "1                   7.602158e+06"
      ]
     },
     "execution_count": 24,
     "metadata": {},
     "output_type": "execute_result"
    }
   ],
   "source": [
    "pd.DataFrame({'timestamp': train[train['answered_correctly'] != -1]['timestamp'].groupby(train['answered_correctly']).mean()})"
   ]
  },
  {
   "cell_type": "markdown",
   "id": "63bdf656",
   "metadata": {},
   "source": [
    "Чем ближе к началу сессии вопрос, тем менее успешно его проходят студенты "
   ]
  },
  {
   "cell_type": "markdown",
   "id": "881c5294",
   "metadata": {},
   "source": [
    "**Посмотрим, есть ли разница в % правильных ответов в зависиомсти от среднего времеми ответа студента на вопросы**"
   ]
  },
  {
   "cell_type": "code",
   "execution_count": 25,
   "id": "169bffa6",
   "metadata": {},
   "outputs": [
    {
     "data": {
      "text/html": [
       "<div>\n",
       "<style scoped>\n",
       "    .dataframe tbody tr th:only-of-type {\n",
       "        vertical-align: middle;\n",
       "    }\n",
       "\n",
       "    .dataframe tbody tr th {\n",
       "        vertical-align: top;\n",
       "    }\n",
       "\n",
       "    .dataframe thead th {\n",
       "        text-align: right;\n",
       "    }\n",
       "</style>\n",
       "<table border=\"1\" class=\"dataframe\">\n",
       "  <thead>\n",
       "    <tr style=\"text-align: right;\">\n",
       "      <th></th>\n",
       "      <th>prior_questions_time</th>\n",
       "    </tr>\n",
       "    <tr>\n",
       "      <th>answered_correctly</th>\n",
       "      <th></th>\n",
       "    </tr>\n",
       "  </thead>\n",
       "  <tbody>\n",
       "    <tr>\n",
       "      <th>0</th>\n",
       "      <td>25.215579</td>\n",
       "    </tr>\n",
       "    <tr>\n",
       "      <th>1</th>\n",
       "      <td>25.349966</td>\n",
       "    </tr>\n",
       "  </tbody>\n",
       "</table>\n",
       "</div>"
      ],
      "text/plain": [
       "                    prior_questions_time\n",
       "answered_correctly                      \n",
       "0                              25.215579\n",
       "1                              25.349966"
      ]
     },
     "execution_count": 25,
     "metadata": {},
     "output_type": "execute_result"
    }
   ],
   "source": [
    "pd.DataFrame({'prior_questions_time': train[train['answered_correctly'] != -1]['prior_question_elapsed_time'].groupby(train['answered_correctly']).mean()})"
   ]
  },
  {
   "cell_type": "markdown",
   "id": "b58fc383",
   "metadata": {},
   "source": [
    "Время ответа не влияет на правильность ответа"
   ]
  },
  {
   "cell_type": "markdown",
   "id": "b63ced3b",
   "metadata": {},
   "source": [
    "**Посмотрим, есть ли разница в % правильных ответов в зависиомсти от видел ли студент правильный ответ на предыдущее задание**"
   ]
  },
  {
   "cell_type": "code",
   "execution_count": 26,
   "id": "7aff2a0a",
   "metadata": {},
   "outputs": [
    {
     "data": {
      "text/html": [
       "<div>\n",
       "<style scoped>\n",
       "    .dataframe tbody tr th:only-of-type {\n",
       "        vertical-align: middle;\n",
       "    }\n",
       "\n",
       "    .dataframe tbody tr th {\n",
       "        vertical-align: top;\n",
       "    }\n",
       "\n",
       "    .dataframe thead th {\n",
       "        text-align: right;\n",
       "    }\n",
       "</style>\n",
       "<table border=\"1\" class=\"dataframe\">\n",
       "  <thead>\n",
       "    <tr style=\"text-align: right;\">\n",
       "      <th></th>\n",
       "      <th>had_explanation</th>\n",
       "    </tr>\n",
       "    <tr>\n",
       "      <th>answered_correctly</th>\n",
       "      <th></th>\n",
       "    </tr>\n",
       "  </thead>\n",
       "  <tbody>\n",
       "    <tr>\n",
       "      <th>0</th>\n",
       "      <td>342682</td>\n",
       "    </tr>\n",
       "    <tr>\n",
       "      <th>1</th>\n",
       "      <td>637411</td>\n",
       "    </tr>\n",
       "  </tbody>\n",
       "</table>\n",
       "</div>"
      ],
      "text/plain": [
       "                    had_explanation\n",
       "answered_correctly                 \n",
       "0                            342682\n",
       "1                            637411"
      ]
     },
     "execution_count": 26,
     "metadata": {},
     "output_type": "execute_result"
    }
   ],
   "source": [
    "pd.DataFrame({'had_explanation': train[train['answered_correctly'] != -1]['prior_question_had_explanation'].groupby(train['answered_correctly']).count()})"
   ]
  },
  {
   "cell_type": "markdown",
   "id": "14c51083",
   "metadata": {},
   "source": [
    "Если студент видел объяснение предыдущий задачи, вероятность правильного ответа удваивается"
   ]
  },
  {
   "cell_type": "markdown",
   "id": "3fec9445",
   "metadata": {},
   "source": [
    "## 3.2. Таблица questions"
   ]
  },
  {
   "cell_type": "markdown",
   "id": "951f1254",
   "metadata": {},
   "source": [
    "Проведем анализ таблицы **questions**"
   ]
  },
  {
   "cell_type": "code",
   "execution_count": 27,
   "id": "6096796e",
   "metadata": {},
   "outputs": [
    {
     "data": {
      "text/plain": [
       "13523"
      ]
     },
     "execution_count": 27,
     "metadata": {},
     "output_type": "execute_result"
    }
   ],
   "source": [
    "questions.shape[0]"
   ]
  },
  {
   "cell_type": "markdown",
   "id": "cefac491",
   "metadata": {},
   "source": [
    "Всего в базе **13523 вопроса**"
   ]
  },
  {
   "cell_type": "markdown",
   "id": "093dc8ef",
   "metadata": {},
   "source": [
    "**Распределение вопросов по темам**"
   ]
  },
  {
   "cell_type": "code",
   "execution_count": 28,
   "id": "14efa06f",
   "metadata": {},
   "outputs": [
    {
     "data": {
      "text/plain": [
       "(array([0, 1, 2, 3, 4, 5, 6]),\n",
       " [Text(0, 0, '1'),\n",
       "  Text(1, 0, '2'),\n",
       "  Text(2, 0, '3'),\n",
       "  Text(3, 0, '4'),\n",
       "  Text(4, 0, '5'),\n",
       "  Text(5, 0, '6'),\n",
       "  Text(6, 0, '7')])"
      ]
     },
     "execution_count": 28,
     "metadata": {},
     "output_type": "execute_result"
    },
    {
     "data": {
      "image/png": "[encoded data removed]",
      "text/plain": [
       "<Figure size 864x576 with 1 Axes>"
      ]
     },
     "metadata": {
      "needs_background": "light"
     },
     "output_type": "display_data"
    }
   ],
   "source": [
    "fig = plt.figure(figsize=(12,8))\n",
    "ax1 = fig.add_subplot(211)\n",
    "ax1 = questions.groupby(\"part\").count()['question_id'].plot.bar()\n",
    "plt.title(\"Количество по темам\")\n",
    "plt.xlabel(\"Тема\")\n",
    "plt.xticks(rotation=0)"
   ]
  },
  {
   "cell_type": "markdown",
   "id": "aa47b14d",
   "metadata": {},
   "source": [
    "Больше всего вопросов по **5 группе**"
   ]
  },
  {
   "cell_type": "markdown",
   "id": "bc6a4a39",
   "metadata": {},
   "source": [
    "**Посмотрим на топ-10 самых популярных вопросов в представленной выборке**"
   ]
  },
  {
   "cell_type": "code",
   "execution_count": 29,
   "id": "ab351263",
   "metadata": {},
   "outputs": [
    {
     "data": {
      "text/html": [
       "<div>\n",
       "<style scoped>\n",
       "    .dataframe tbody tr th:only-of-type {\n",
       "        vertical-align: middle;\n",
       "    }\n",
       "\n",
       "    .dataframe tbody tr th {\n",
       "        vertical-align: top;\n",
       "    }\n",
       "\n",
       "    .dataframe thead th {\n",
       "        text-align: right;\n",
       "    }\n",
       "</style>\n",
       "<table border=\"1\" class=\"dataframe\">\n",
       "  <thead>\n",
       "    <tr style=\"text-align: right;\">\n",
       "      <th></th>\n",
       "      <th>question_id</th>\n",
       "      <th>bundle_id</th>\n",
       "      <th>correct_answer</th>\n",
       "      <th>part</th>\n",
       "      <th>tags</th>\n",
       "      <th>wrong</th>\n",
       "      <th>right</th>\n",
       "      <th>question_count</th>\n",
       "      <th>percent_correct</th>\n",
       "    </tr>\n",
       "  </thead>\n",
       "  <tbody>\n",
       "    <tr>\n",
       "      <th>6116</th>\n",
       "      <td>6116</td>\n",
       "      <td>6116</td>\n",
       "      <td>3</td>\n",
       "      <td>5</td>\n",
       "      <td>[23]</td>\n",
       "      <td>1445.0</td>\n",
       "      <td>596.0</td>\n",
       "      <td>2041.0</td>\n",
       "      <td>0.292014</td>\n",
       "    </tr>\n",
       "    <tr>\n",
       "      <th>6173</th>\n",
       "      <td>6173</td>\n",
       "      <td>6173</td>\n",
       "      <td>2</td>\n",
       "      <td>5</td>\n",
       "      <td>[151]</td>\n",
       "      <td>1405.0</td>\n",
       "      <td>573.0</td>\n",
       "      <td>1978.0</td>\n",
       "      <td>0.289687</td>\n",
       "    </tr>\n",
       "    <tr>\n",
       "      <th>4120</th>\n",
       "      <td>4120</td>\n",
       "      <td>4120</td>\n",
       "      <td>0</td>\n",
       "      <td>5</td>\n",
       "      <td>[123]</td>\n",
       "      <td>1363.0</td>\n",
       "      <td>561.0</td>\n",
       "      <td>1924.0</td>\n",
       "      <td>0.291580</td>\n",
       "    </tr>\n",
       "    <tr>\n",
       "      <th>175</th>\n",
       "      <td>175</td>\n",
       "      <td>175</td>\n",
       "      <td>2</td>\n",
       "      <td>1</td>\n",
       "      <td>[9, 10, 92]</td>\n",
       "      <td>1203.0</td>\n",
       "      <td>674.0</td>\n",
       "      <td>1877.0</td>\n",
       "      <td>0.359084</td>\n",
       "    </tr>\n",
       "    <tr>\n",
       "      <th>7876</th>\n",
       "      <td>7876</td>\n",
       "      <td>7876</td>\n",
       "      <td>3</td>\n",
       "      <td>1</td>\n",
       "      <td>[10, 94, 92]</td>\n",
       "      <td>1076.0</td>\n",
       "      <td>771.0</td>\n",
       "      <td>1847.0</td>\n",
       "      <td>0.417434</td>\n",
       "    </tr>\n",
       "    <tr>\n",
       "      <th>7900</th>\n",
       "      <td>7900</td>\n",
       "      <td>7900</td>\n",
       "      <td>0</td>\n",
       "      <td>1</td>\n",
       "      <td>[131, 93, 81]</td>\n",
       "      <td>330.0</td>\n",
       "      <td>1437.0</td>\n",
       "      <td>1767.0</td>\n",
       "      <td>0.813243</td>\n",
       "    </tr>\n",
       "    <tr>\n",
       "      <th>2063</th>\n",
       "      <td>2063</td>\n",
       "      <td>2063</td>\n",
       "      <td>0</td>\n",
       "      <td>3</td>\n",
       "      <td>[136, 92, 29]</td>\n",
       "      <td>1409.0</td>\n",
       "      <td>286.0</td>\n",
       "      <td>1695.0</td>\n",
       "      <td>0.168732</td>\n",
       "    </tr>\n",
       "    <tr>\n",
       "      <th>2064</th>\n",
       "      <td>2064</td>\n",
       "      <td>2063</td>\n",
       "      <td>1</td>\n",
       "      <td>3</td>\n",
       "      <td>[157, 92, 29]</td>\n",
       "      <td>625.0</td>\n",
       "      <td>1070.0</td>\n",
       "      <td>1695.0</td>\n",
       "      <td>0.631268</td>\n",
       "    </tr>\n",
       "    <tr>\n",
       "      <th>2065</th>\n",
       "      <td>2065</td>\n",
       "      <td>2063</td>\n",
       "      <td>2</td>\n",
       "      <td>3</td>\n",
       "      <td>[136, 162, 92, 29]</td>\n",
       "      <td>626.0</td>\n",
       "      <td>1069.0</td>\n",
       "      <td>1695.0</td>\n",
       "      <td>0.630678</td>\n",
       "    </tr>\n",
       "    <tr>\n",
       "      <th>3364</th>\n",
       "      <td>3364</td>\n",
       "      <td>3363</td>\n",
       "      <td>1</td>\n",
       "      <td>4</td>\n",
       "      <td>[136, 103, 29]</td>\n",
       "      <td>807.0</td>\n",
       "      <td>864.0</td>\n",
       "      <td>1671.0</td>\n",
       "      <td>0.517056</td>\n",
       "    </tr>\n",
       "  </tbody>\n",
       "</table>\n",
       "</div>"
      ],
      "text/plain": [
       "      question_id  bundle_id  correct_answer  part                tags  \\\n",
       "6116         6116       6116               3     5                [23]   \n",
       "6173         6173       6173               2     5               [151]   \n",
       "4120         4120       4120               0     5               [123]   \n",
       "175           175        175               2     1         [9, 10, 92]   \n",
       "7876         7876       7876               3     1        [10, 94, 92]   \n",
       "7900         7900       7900               0     1       [131, 93, 81]   \n",
       "2063         2063       2063               0     3       [136, 92, 29]   \n",
       "2064         2064       2063               1     3       [157, 92, 29]   \n",
       "2065         2065       2063               2     3  [136, 162, 92, 29]   \n",
       "3364         3364       3363               1     4      [136, 103, 29]   \n",
       "\n",
       "       wrong   right  question_count  percent_correct  \n",
       "6116  1445.0   596.0          2041.0         0.292014  \n",
       "6173  1405.0   573.0          1978.0         0.289687  \n",
       "4120  1363.0   561.0          1924.0         0.291580  \n",
       "175   1203.0   674.0          1877.0         0.359084  \n",
       "7876  1076.0   771.0          1847.0         0.417434  \n",
       "7900   330.0  1437.0          1767.0         0.813243  \n",
       "2063  1409.0   286.0          1695.0         0.168732  \n",
       "2064   625.0  1070.0          1695.0         0.631268  \n",
       "2065   626.0  1069.0          1695.0         0.630678  \n",
       "3364   807.0   864.0          1671.0         0.517056  "
      ]
     },
     "execution_count": 29,
     "metadata": {},
     "output_type": "execute_result"
    }
   ],
   "source": [
    "questions.sort_values('question_count', ascending=False).head(10)"
   ]
  },
  {
   "cell_type": "markdown",
   "id": "1cdd5fd0",
   "metadata": {},
   "source": [
    "**Проанализируем какие из вопросов оказались самыми сложными**"
   ]
  },
  {
   "cell_type": "code",
   "execution_count": 30,
   "id": "9b48d1ca",
   "metadata": {
    "scrolled": true
   },
   "outputs": [
    {
     "data": {
      "text/html": [
       "<div>\n",
       "<style scoped>\n",
       "    .dataframe tbody tr th:only-of-type {\n",
       "        vertical-align: middle;\n",
       "    }\n",
       "\n",
       "    .dataframe tbody tr th {\n",
       "        vertical-align: top;\n",
       "    }\n",
       "\n",
       "    .dataframe thead th {\n",
       "        text-align: right;\n",
       "    }\n",
       "</style>\n",
       "<table border=\"1\" class=\"dataframe\">\n",
       "  <thead>\n",
       "    <tr style=\"text-align: right;\">\n",
       "      <th></th>\n",
       "      <th>question_id</th>\n",
       "      <th>bundle_id</th>\n",
       "      <th>correct_answer</th>\n",
       "      <th>part</th>\n",
       "      <th>tags</th>\n",
       "      <th>wrong</th>\n",
       "      <th>right</th>\n",
       "      <th>question_count</th>\n",
       "      <th>percent_correct</th>\n",
       "    </tr>\n",
       "  </thead>\n",
       "  <tbody>\n",
       "    <tr>\n",
       "      <th>10062</th>\n",
       "      <td>10062</td>\n",
       "      <td>10062</td>\n",
       "      <td>0</td>\n",
       "      <td>6</td>\n",
       "      <td>[8]</td>\n",
       "      <td>81.0</td>\n",
       "      <td>5.0</td>\n",
       "      <td>86.0</td>\n",
       "      <td>0.058140</td>\n",
       "    </tr>\n",
       "    <tr>\n",
       "      <th>11900</th>\n",
       "      <td>11900</td>\n",
       "      <td>11900</td>\n",
       "      <td>1</td>\n",
       "      <td>2</td>\n",
       "      <td>[143, 114, 38, 81]</td>\n",
       "      <td>14.0</td>\n",
       "      <td>1.0</td>\n",
       "      <td>15.0</td>\n",
       "      <td>0.066667</td>\n",
       "    </tr>\n",
       "    <tr>\n",
       "      <th>3125</th>\n",
       "      <td>3125</td>\n",
       "      <td>3123</td>\n",
       "      <td>3</td>\n",
       "      <td>4</td>\n",
       "      <td>[157, 12, 92]</td>\n",
       "      <td>86.0</td>\n",
       "      <td>9.0</td>\n",
       "      <td>95.0</td>\n",
       "      <td>0.094737</td>\n",
       "    </tr>\n",
       "    <tr>\n",
       "      <th>10826</th>\n",
       "      <td>10826</td>\n",
       "      <td>10823</td>\n",
       "      <td>2</td>\n",
       "      <td>6</td>\n",
       "      <td>[27]</td>\n",
       "      <td>34.0</td>\n",
       "      <td>4.0</td>\n",
       "      <td>38.0</td>\n",
       "      <td>0.105263</td>\n",
       "    </tr>\n",
       "    <tr>\n",
       "      <th>8721</th>\n",
       "      <td>8721</td>\n",
       "      <td>8721</td>\n",
       "      <td>3</td>\n",
       "      <td>5</td>\n",
       "      <td>[174]</td>\n",
       "      <td>70.0</td>\n",
       "      <td>9.0</td>\n",
       "      <td>79.0</td>\n",
       "      <td>0.113924</td>\n",
       "    </tr>\n",
       "    <tr>\n",
       "      <th>2529</th>\n",
       "      <td>2529</td>\n",
       "      <td>2527</td>\n",
       "      <td>2</td>\n",
       "      <td>3</td>\n",
       "      <td>[136, 162, 81, 92]</td>\n",
       "      <td>37.0</td>\n",
       "      <td>5.0</td>\n",
       "      <td>42.0</td>\n",
       "      <td>0.119048</td>\n",
       "    </tr>\n",
       "    <tr>\n",
       "      <th>11143</th>\n",
       "      <td>11143</td>\n",
       "      <td>11143</td>\n",
       "      <td>2</td>\n",
       "      <td>6</td>\n",
       "      <td>[53]</td>\n",
       "      <td>21.0</td>\n",
       "      <td>3.0</td>\n",
       "      <td>24.0</td>\n",
       "      <td>0.125000</td>\n",
       "    </tr>\n",
       "    <tr>\n",
       "      <th>8697</th>\n",
       "      <td>8697</td>\n",
       "      <td>8697</td>\n",
       "      <td>2</td>\n",
       "      <td>5</td>\n",
       "      <td>[73]</td>\n",
       "      <td>41.0</td>\n",
       "      <td>6.0</td>\n",
       "      <td>47.0</td>\n",
       "      <td>0.127660</td>\n",
       "    </tr>\n",
       "    <tr>\n",
       "      <th>7639</th>\n",
       "      <td>7639</td>\n",
       "      <td>7638</td>\n",
       "      <td>1</td>\n",
       "      <td>7</td>\n",
       "      <td>[118, 42, 21, 162]</td>\n",
       "      <td>68.0</td>\n",
       "      <td>10.0</td>\n",
       "      <td>78.0</td>\n",
       "      <td>0.128205</td>\n",
       "    </tr>\n",
       "    <tr>\n",
       "      <th>8986</th>\n",
       "      <td>8986</td>\n",
       "      <td>8986</td>\n",
       "      <td>0</td>\n",
       "      <td>5</td>\n",
       "      <td>[73]</td>\n",
       "      <td>54.0</td>\n",
       "      <td>8.0</td>\n",
       "      <td>62.0</td>\n",
       "      <td>0.129032</td>\n",
       "    </tr>\n",
       "  </tbody>\n",
       "</table>\n",
       "</div>"
      ],
      "text/plain": [
       "       question_id  bundle_id  correct_answer  part                tags  \\\n",
       "10062        10062      10062               0     6                 [8]   \n",
       "11900        11900      11900               1     2  [143, 114, 38, 81]   \n",
       "3125          3125       3123               3     4       [157, 12, 92]   \n",
       "10826        10826      10823               2     6                [27]   \n",
       "8721          8721       8721               3     5               [174]   \n",
       "2529          2529       2527               2     3  [136, 162, 81, 92]   \n",
       "11143        11143      11143               2     6                [53]   \n",
       "8697          8697       8697               2     5                [73]   \n",
       "7639          7639       7638               1     7  [118, 42, 21, 162]   \n",
       "8986          8986       8986               0     5                [73]   \n",
       "\n",
       "       wrong  right  question_count  percent_correct  \n",
       "10062   81.0    5.0            86.0         0.058140  \n",
       "11900   14.0    1.0            15.0         0.066667  \n",
       "3125    86.0    9.0            95.0         0.094737  \n",
       "10826   34.0    4.0            38.0         0.105263  \n",
       "8721    70.0    9.0            79.0         0.113924  \n",
       "2529    37.0    5.0            42.0         0.119048  \n",
       "11143   21.0    3.0            24.0         0.125000  \n",
       "8697    41.0    6.0            47.0         0.127660  \n",
       "7639    68.0   10.0            78.0         0.128205  \n",
       "8986    54.0    8.0            62.0         0.129032  "
      ]
     },
     "execution_count": 30,
     "metadata": {},
     "output_type": "execute_result"
    }
   ],
   "source": [
    "# Рассмотрим вопросы, которые задавались более 10 раз\n",
    "questions.loc[questions['question_count']>10].sort_values('percent_correct').head(10)"
   ]
  },
  {
   "cell_type": "markdown",
   "id": "bb8ce06e",
   "metadata": {},
   "source": [
    "**Анализ по тэгам**"
   ]
  },
  {
   "cell_type": "code",
   "execution_count": 31,
   "id": "d850ffdc",
   "metadata": {},
   "outputs": [
    {
     "name": "stdout",
     "output_type": "stream",
     "text": [
      "Всего 189 различных тэгов\n"
     ]
    }
   ],
   "source": [
    "tags = questions.tags.values\n",
    "tags = [item for elem in tags for item in elem]\n",
    "tags = set(tags)\n",
    "tags = list(tags)\n",
    "print(f'Всего {len(tags)} различных тэгов')"
   ]
  },
  {
   "cell_type": "code",
   "execution_count": 32,
   "id": "2ecf0a02",
   "metadata": {},
   "outputs": [
    {
     "name": "stderr",
     "output_type": "stream",
     "text": [
      "C:\\Users\\М\\AppData\\Local\\Temp\\ipykernel_3212\\696502254.py:9: FutureWarning: The frame.append method is deprecated and will be removed from pandas in a future version. Use pandas.concat instead.\n",
      "  tags_df = tags_df.append(df1)\n",
      "C:\\Users\\М\\AppData\\Local\\Temp\\ipykernel_3212\\696502254.py:9: FutureWarning: The frame.append method is deprecated and will be removed from pandas in a future version. Use pandas.concat instead.\n",
      "  tags_df = tags_df.append(df1)\n",
      "C:\\Users\\М\\AppData\\Local\\Temp\\ipykernel_3212\\696502254.py:9: FutureWarning: The frame.append method is deprecated and will be removed from pandas in a future version. Use pandas.concat instead.\n",
      "  tags_df = tags_df.append(df1)\n",
      "C:\\Users\\М\\AppData\\Local\\Temp\\ipykernel_3212\\696502254.py:9: FutureWarning: The frame.append method is deprecated and will be removed from pandas in a future version. Use pandas.concat instead.\n",
      "  tags_df = tags_df.append(df1)\n",
      "C:\\Users\\М\\AppData\\Local\\Temp\\ipykernel_3212\\696502254.py:9: FutureWarning: The frame.append method is deprecated and will be removed from pandas in a future version. Use pandas.concat instead.\n",
      "  tags_df = tags_df.append(df1)\n",
      "C:\\Users\\М\\AppData\\Local\\Temp\\ipykernel_3212\\696502254.py:9: FutureWarning: The frame.append method is deprecated and will be removed from pandas in a future version. Use pandas.concat instead.\n",
      "  tags_df = tags_df.append(df1)\n",
      "C:\\Users\\М\\AppData\\Local\\Temp\\ipykernel_3212\\696502254.py:9: FutureWarning: The frame.append method is deprecated and will be removed from pandas in a future version. Use pandas.concat instead.\n",
      "  tags_df = tags_df.append(df1)\n",
      "C:\\Users\\М\\AppData\\Local\\Temp\\ipykernel_3212\\696502254.py:9: FutureWarning: The frame.append method is deprecated and will be removed from pandas in a future version. Use pandas.concat instead.\n",
      "  tags_df = tags_df.append(df1)\n",
      "C:\\Users\\М\\AppData\\Local\\Temp\\ipykernel_3212\\696502254.py:9: FutureWarning: The frame.append method is deprecated and will be removed from pandas in a future version. Use pandas.concat instead.\n",
      "  tags_df = tags_df.append(df1)\n",
      "C:\\Users\\М\\AppData\\Local\\Temp\\ipykernel_3212\\696502254.py:9: FutureWarning: The frame.append method is deprecated and will be removed from pandas in a future version. Use pandas.concat instead.\n",
      "  tags_df = tags_df.append(df1)\n",
      "C:\\Users\\М\\AppData\\Local\\Temp\\ipykernel_3212\\696502254.py:9: FutureWarning: The frame.append method is deprecated and will be removed from pandas in a future version. Use pandas.concat instead.\n",
      "  tags_df = tags_df.append(df1)\n",
      "C:\\Users\\М\\AppData\\Local\\Temp\\ipykernel_3212\\696502254.py:9: FutureWarning: The frame.append method is deprecated and will be removed from pandas in a future version. Use pandas.concat instead.\n",
      "  tags_df = tags_df.append(df1)\n",
      "C:\\Users\\М\\AppData\\Local\\Temp\\ipykernel_3212\\696502254.py:9: FutureWarning: The frame.append method is deprecated and will be removed from pandas in a future version. Use pandas.concat instead.\n",
      "  tags_df = tags_df.append(df1)\n",
      "C:\\Users\\М\\AppData\\Local\\Temp\\ipykernel_3212\\696502254.py:9: FutureWarning: The frame.append method is deprecated and will be removed from pandas in a future version. Use pandas.concat instead.\n",
      "  tags_df = tags_df.append(df1)\n",
      "C:\\Users\\М\\AppData\\Local\\Temp\\ipykernel_3212\\696502254.py:9: FutureWarning: The frame.append method is deprecated and will be removed from pandas in a future version. Use pandas.concat instead.\n",
      "  tags_df = tags_df.append(df1)\n",
      "C:\\Users\\М\\AppData\\Local\\Temp\\ipykernel_3212\\696502254.py:9: FutureWarning: The frame.append method is deprecated and will be removed from pandas in a future version. Use pandas.concat instead.\n",
      "  tags_df = tags_df.append(df1)\n",
      "C:\\Users\\М\\AppData\\Local\\Temp\\ipykernel_3212\\696502254.py:9: FutureWarning: The frame.append method is deprecated and will be removed from pandas in a future version. Use pandas.concat instead.\n",
      "  tags_df = tags_df.append(df1)\n",
      "C:\\Users\\М\\AppData\\Local\\Temp\\ipykernel_3212\\696502254.py:9: FutureWarning: The frame.append method is deprecated and will be removed from pandas in a future version. Use pandas.concat instead.\n",
      "  tags_df = tags_df.append(df1)\n",
      "C:\\Users\\М\\AppData\\Local\\Temp\\ipykernel_3212\\696502254.py:9: FutureWarning: The frame.append method is deprecated and will be removed from pandas in a future version. Use pandas.concat instead.\n",
      "  tags_df = tags_df.append(df1)\n",
      "C:\\Users\\М\\AppData\\Local\\Temp\\ipykernel_3212\\696502254.py:9: FutureWarning: The frame.append method is deprecated and will be removed from pandas in a future version. Use pandas.concat instead.\n",
      "  tags_df = tags_df.append(df1)\n",
      "C:\\Users\\М\\AppData\\Local\\Temp\\ipykernel_3212\\696502254.py:9: FutureWarning: The frame.append method is deprecated and will be removed from pandas in a future version. Use pandas.concat instead.\n",
      "  tags_df = tags_df.append(df1)\n",
      "C:\\Users\\М\\AppData\\Local\\Temp\\ipykernel_3212\\696502254.py:9: FutureWarning: The frame.append method is deprecated and will be removed from pandas in a future version. Use pandas.concat instead.\n",
      "  tags_df = tags_df.append(df1)\n",
      "C:\\Users\\М\\AppData\\Local\\Temp\\ipykernel_3212\\696502254.py:9: FutureWarning: The frame.append method is deprecated and will be removed from pandas in a future version. Use pandas.concat instead.\n",
      "  tags_df = tags_df.append(df1)\n",
      "C:\\Users\\М\\AppData\\Local\\Temp\\ipykernel_3212\\696502254.py:9: FutureWarning: The frame.append method is deprecated and will be removed from pandas in a future version. Use pandas.concat instead.\n",
      "  tags_df = tags_df.append(df1)\n",
      "C:\\Users\\М\\AppData\\Local\\Temp\\ipykernel_3212\\696502254.py:9: FutureWarning: The frame.append method is deprecated and will be removed from pandas in a future version. Use pandas.concat instead.\n",
      "  tags_df = tags_df.append(df1)\n",
      "C:\\Users\\М\\AppData\\Local\\Temp\\ipykernel_3212\\696502254.py:9: FutureWarning: The frame.append method is deprecated and will be removed from pandas in a future version. Use pandas.concat instead.\n",
      "  tags_df = tags_df.append(df1)\n",
      "C:\\Users\\М\\AppData\\Local\\Temp\\ipykernel_3212\\696502254.py:9: FutureWarning: The frame.append method is deprecated and will be removed from pandas in a future version. Use pandas.concat instead.\n",
      "  tags_df = tags_df.append(df1)\n",
      "C:\\Users\\М\\AppData\\Local\\Temp\\ipykernel_3212\\696502254.py:9: FutureWarning: The frame.append method is deprecated and will be removed from pandas in a future version. Use pandas.concat instead.\n",
      "  tags_df = tags_df.append(df1)\n",
      "C:\\Users\\М\\AppData\\Local\\Temp\\ipykernel_3212\\696502254.py:9: FutureWarning: The frame.append method is deprecated and will be removed from pandas in a future version. Use pandas.concat instead.\n",
      "  tags_df = tags_df.append(df1)\n",
      "C:\\Users\\М\\AppData\\Local\\Temp\\ipykernel_3212\\696502254.py:9: FutureWarning: The frame.append method is deprecated and will be removed from pandas in a future version. Use pandas.concat instead.\n",
      "  tags_df = tags_df.append(df1)\n",
      "C:\\Users\\М\\AppData\\Local\\Temp\\ipykernel_3212\\696502254.py:9: FutureWarning: The frame.append method is deprecated and will be removed from pandas in a future version. Use pandas.concat instead.\n",
      "  tags_df = tags_df.append(df1)\n",
      "C:\\Users\\М\\AppData\\Local\\Temp\\ipykernel_3212\\696502254.py:9: FutureWarning: The frame.append method is deprecated and will be removed from pandas in a future version. Use pandas.concat instead.\n",
      "  tags_df = tags_df.append(df1)\n",
      "C:\\Users\\М\\AppData\\Local\\Temp\\ipykernel_3212\\696502254.py:9: FutureWarning: The frame.append method is deprecated and will be removed from pandas in a future version. Use pandas.concat instead.\n",
      "  tags_df = tags_df.append(df1)\n",
      "C:\\Users\\М\\AppData\\Local\\Temp\\ipykernel_3212\\696502254.py:9: FutureWarning: The frame.append method is deprecated and will be removed from pandas in a future version. Use pandas.concat instead.\n",
      "  tags_df = tags_df.append(df1)\n",
      "C:\\Users\\М\\AppData\\Local\\Temp\\ipykernel_3212\\696502254.py:9: FutureWarning: The frame.append method is deprecated and will be removed from pandas in a future version. Use pandas.concat instead.\n",
      "  tags_df = tags_df.append(df1)\n",
      "C:\\Users\\М\\AppData\\Local\\Temp\\ipykernel_3212\\696502254.py:9: FutureWarning: The frame.append method is deprecated and will be removed from pandas in a future version. Use pandas.concat instead.\n",
      "  tags_df = tags_df.append(df1)\n",
      "C:\\Users\\М\\AppData\\Local\\Temp\\ipykernel_3212\\696502254.py:9: FutureWarning: The frame.append method is deprecated and will be removed from pandas in a future version. Use pandas.concat instead.\n",
      "  tags_df = tags_df.append(df1)\n",
      "C:\\Users\\М\\AppData\\Local\\Temp\\ipykernel_3212\\696502254.py:9: FutureWarning: The frame.append method is deprecated and will be removed from pandas in a future version. Use pandas.concat instead.\n",
      "  tags_df = tags_df.append(df1)\n",
      "C:\\Users\\М\\AppData\\Local\\Temp\\ipykernel_3212\\696502254.py:9: FutureWarning: The frame.append method is deprecated and will be removed from pandas in a future version. Use pandas.concat instead.\n",
      "  tags_df = tags_df.append(df1)\n",
      "C:\\Users\\М\\AppData\\Local\\Temp\\ipykernel_3212\\696502254.py:9: FutureWarning: The frame.append method is deprecated and will be removed from pandas in a future version. Use pandas.concat instead.\n",
      "  tags_df = tags_df.append(df1)\n",
      "C:\\Users\\М\\AppData\\Local\\Temp\\ipykernel_3212\\696502254.py:9: FutureWarning: The frame.append method is deprecated and will be removed from pandas in a future version. Use pandas.concat instead.\n",
      "  tags_df = tags_df.append(df1)\n",
      "C:\\Users\\М\\AppData\\Local\\Temp\\ipykernel_3212\\696502254.py:9: FutureWarning: The frame.append method is deprecated and will be removed from pandas in a future version. Use pandas.concat instead.\n",
      "  tags_df = tags_df.append(df1)\n",
      "C:\\Users\\М\\AppData\\Local\\Temp\\ipykernel_3212\\696502254.py:9: FutureWarning: The frame.append method is deprecated and will be removed from pandas in a future version. Use pandas.concat instead.\n",
      "  tags_df = tags_df.append(df1)\n",
      "C:\\Users\\М\\AppData\\Local\\Temp\\ipykernel_3212\\696502254.py:9: FutureWarning: The frame.append method is deprecated and will be removed from pandas in a future version. Use pandas.concat instead.\n",
      "  tags_df = tags_df.append(df1)\n",
      "C:\\Users\\М\\AppData\\Local\\Temp\\ipykernel_3212\\696502254.py:9: FutureWarning: The frame.append method is deprecated and will be removed from pandas in a future version. Use pandas.concat instead.\n",
      "  tags_df = tags_df.append(df1)\n",
      "C:\\Users\\М\\AppData\\Local\\Temp\\ipykernel_3212\\696502254.py:9: FutureWarning: The frame.append method is deprecated and will be removed from pandas in a future version. Use pandas.concat instead.\n",
      "  tags_df = tags_df.append(df1)\n",
      "C:\\Users\\М\\AppData\\Local\\Temp\\ipykernel_3212\\696502254.py:9: FutureWarning: The frame.append method is deprecated and will be removed from pandas in a future version. Use pandas.concat instead.\n",
      "  tags_df = tags_df.append(df1)\n",
      "C:\\Users\\М\\AppData\\Local\\Temp\\ipykernel_3212\\696502254.py:9: FutureWarning: The frame.append method is deprecated and will be removed from pandas in a future version. Use pandas.concat instead.\n",
      "  tags_df = tags_df.append(df1)\n",
      "C:\\Users\\М\\AppData\\Local\\Temp\\ipykernel_3212\\696502254.py:9: FutureWarning: The frame.append method is deprecated and will be removed from pandas in a future version. Use pandas.concat instead.\n",
      "  tags_df = tags_df.append(df1)\n",
      "C:\\Users\\М\\AppData\\Local\\Temp\\ipykernel_3212\\696502254.py:9: FutureWarning: The frame.append method is deprecated and will be removed from pandas in a future version. Use pandas.concat instead.\n",
      "  tags_df = tags_df.append(df1)\n",
      "C:\\Users\\М\\AppData\\Local\\Temp\\ipykernel_3212\\696502254.py:9: FutureWarning: The frame.append method is deprecated and will be removed from pandas in a future version. Use pandas.concat instead.\n",
      "  tags_df = tags_df.append(df1)\n",
      "C:\\Users\\М\\AppData\\Local\\Temp\\ipykernel_3212\\696502254.py:9: FutureWarning: The frame.append method is deprecated and will be removed from pandas in a future version. Use pandas.concat instead.\n",
      "  tags_df = tags_df.append(df1)\n",
      "C:\\Users\\М\\AppData\\Local\\Temp\\ipykernel_3212\\696502254.py:9: FutureWarning: The frame.append method is deprecated and will be removed from pandas in a future version. Use pandas.concat instead.\n",
      "  tags_df = tags_df.append(df1)\n",
      "C:\\Users\\М\\AppData\\Local\\Temp\\ipykernel_3212\\696502254.py:9: FutureWarning: The frame.append method is deprecated and will be removed from pandas in a future version. Use pandas.concat instead.\n",
      "  tags_df = tags_df.append(df1)\n",
      "C:\\Users\\М\\AppData\\Local\\Temp\\ipykernel_3212\\696502254.py:9: FutureWarning: The frame.append method is deprecated and will be removed from pandas in a future version. Use pandas.concat instead.\n",
      "  tags_df = tags_df.append(df1)\n",
      "C:\\Users\\М\\AppData\\Local\\Temp\\ipykernel_3212\\696502254.py:9: FutureWarning: The frame.append method is deprecated and will be removed from pandas in a future version. Use pandas.concat instead.\n",
      "  tags_df = tags_df.append(df1)\n",
      "C:\\Users\\М\\AppData\\Local\\Temp\\ipykernel_3212\\696502254.py:9: FutureWarning: The frame.append method is deprecated and will be removed from pandas in a future version. Use pandas.concat instead.\n",
      "  tags_df = tags_df.append(df1)\n",
      "C:\\Users\\М\\AppData\\Local\\Temp\\ipykernel_3212\\696502254.py:9: FutureWarning: The frame.append method is deprecated and will be removed from pandas in a future version. Use pandas.concat instead.\n",
      "  tags_df = tags_df.append(df1)\n",
      "C:\\Users\\М\\AppData\\Local\\Temp\\ipykernel_3212\\696502254.py:9: FutureWarning: The frame.append method is deprecated and will be removed from pandas in a future version. Use pandas.concat instead.\n",
      "  tags_df = tags_df.append(df1)\n",
      "C:\\Users\\М\\AppData\\Local\\Temp\\ipykernel_3212\\696502254.py:9: FutureWarning: The frame.append method is deprecated and will be removed from pandas in a future version. Use pandas.concat instead.\n",
      "  tags_df = tags_df.append(df1)\n",
      "C:\\Users\\М\\AppData\\Local\\Temp\\ipykernel_3212\\696502254.py:9: FutureWarning: The frame.append method is deprecated and will be removed from pandas in a future version. Use pandas.concat instead.\n",
      "  tags_df = tags_df.append(df1)\n",
      "C:\\Users\\М\\AppData\\Local\\Temp\\ipykernel_3212\\696502254.py:9: FutureWarning: The frame.append method is deprecated and will be removed from pandas in a future version. Use pandas.concat instead.\n",
      "  tags_df = tags_df.append(df1)\n",
      "C:\\Users\\М\\AppData\\Local\\Temp\\ipykernel_3212\\696502254.py:9: FutureWarning: The frame.append method is deprecated and will be removed from pandas in a future version. Use pandas.concat instead.\n",
      "  tags_df = tags_df.append(df1)\n",
      "C:\\Users\\М\\AppData\\Local\\Temp\\ipykernel_3212\\696502254.py:9: FutureWarning: The frame.append method is deprecated and will be removed from pandas in a future version. Use pandas.concat instead.\n",
      "  tags_df = tags_df.append(df1)\n",
      "C:\\Users\\М\\AppData\\Local\\Temp\\ipykernel_3212\\696502254.py:9: FutureWarning: The frame.append method is deprecated and will be removed from pandas in a future version. Use pandas.concat instead.\n",
      "  tags_df = tags_df.append(df1)\n",
      "C:\\Users\\М\\AppData\\Local\\Temp\\ipykernel_3212\\696502254.py:9: FutureWarning: The frame.append method is deprecated and will be removed from pandas in a future version. Use pandas.concat instead.\n",
      "  tags_df = tags_df.append(df1)\n",
      "C:\\Users\\М\\AppData\\Local\\Temp\\ipykernel_3212\\696502254.py:9: FutureWarning: The frame.append method is deprecated and will be removed from pandas in a future version. Use pandas.concat instead.\n",
      "  tags_df = tags_df.append(df1)\n",
      "C:\\Users\\М\\AppData\\Local\\Temp\\ipykernel_3212\\696502254.py:9: FutureWarning: The frame.append method is deprecated and will be removed from pandas in a future version. Use pandas.concat instead.\n",
      "  tags_df = tags_df.append(df1)\n",
      "C:\\Users\\М\\AppData\\Local\\Temp\\ipykernel_3212\\696502254.py:9: FutureWarning: The frame.append method is deprecated and will be removed from pandas in a future version. Use pandas.concat instead.\n",
      "  tags_df = tags_df.append(df1)\n",
      "C:\\Users\\М\\AppData\\Local\\Temp\\ipykernel_3212\\696502254.py:9: FutureWarning: The frame.append method is deprecated and will be removed from pandas in a future version. Use pandas.concat instead.\n",
      "  tags_df = tags_df.append(df1)\n",
      "C:\\Users\\М\\AppData\\Local\\Temp\\ipykernel_3212\\696502254.py:9: FutureWarning: The frame.append method is deprecated and will be removed from pandas in a future version. Use pandas.concat instead.\n",
      "  tags_df = tags_df.append(df1)\n",
      "C:\\Users\\М\\AppData\\Local\\Temp\\ipykernel_3212\\696502254.py:9: FutureWarning: The frame.append method is deprecated and will be removed from pandas in a future version. Use pandas.concat instead.\n",
      "  tags_df = tags_df.append(df1)\n",
      "C:\\Users\\М\\AppData\\Local\\Temp\\ipykernel_3212\\696502254.py:9: FutureWarning: The frame.append method is deprecated and will be removed from pandas in a future version. Use pandas.concat instead.\n",
      "  tags_df = tags_df.append(df1)\n",
      "C:\\Users\\М\\AppData\\Local\\Temp\\ipykernel_3212\\696502254.py:9: FutureWarning: The frame.append method is deprecated and will be removed from pandas in a future version. Use pandas.concat instead.\n",
      "  tags_df = tags_df.append(df1)\n",
      "C:\\Users\\М\\AppData\\Local\\Temp\\ipykernel_3212\\696502254.py:9: FutureWarning: The frame.append method is deprecated and will be removed from pandas in a future version. Use pandas.concat instead.\n",
      "  tags_df = tags_df.append(df1)\n",
      "C:\\Users\\М\\AppData\\Local\\Temp\\ipykernel_3212\\696502254.py:9: FutureWarning: The frame.append method is deprecated and will be removed from pandas in a future version. Use pandas.concat instead.\n",
      "  tags_df = tags_df.append(df1)\n",
      "C:\\Users\\М\\AppData\\Local\\Temp\\ipykernel_3212\\696502254.py:9: FutureWarning: The frame.append method is deprecated and will be removed from pandas in a future version. Use pandas.concat instead.\n",
      "  tags_df = tags_df.append(df1)\n",
      "C:\\Users\\М\\AppData\\Local\\Temp\\ipykernel_3212\\696502254.py:9: FutureWarning: The frame.append method is deprecated and will be removed from pandas in a future version. Use pandas.concat instead.\n",
      "  tags_df = tags_df.append(df1)\n",
      "C:\\Users\\М\\AppData\\Local\\Temp\\ipykernel_3212\\696502254.py:9: FutureWarning: The frame.append method is deprecated and will be removed from pandas in a future version. Use pandas.concat instead.\n",
      "  tags_df = tags_df.append(df1)\n",
      "C:\\Users\\М\\AppData\\Local\\Temp\\ipykernel_3212\\696502254.py:9: FutureWarning: The frame.append method is deprecated and will be removed from pandas in a future version. Use pandas.concat instead.\n",
      "  tags_df = tags_df.append(df1)\n",
      "C:\\Users\\М\\AppData\\Local\\Temp\\ipykernel_3212\\696502254.py:9: FutureWarning: The frame.append method is deprecated and will be removed from pandas in a future version. Use pandas.concat instead.\n",
      "  tags_df = tags_df.append(df1)\n",
      "C:\\Users\\М\\AppData\\Local\\Temp\\ipykernel_3212\\696502254.py:9: FutureWarning: The frame.append method is deprecated and will be removed from pandas in a future version. Use pandas.concat instead.\n",
      "  tags_df = tags_df.append(df1)\n",
      "C:\\Users\\М\\AppData\\Local\\Temp\\ipykernel_3212\\696502254.py:9: FutureWarning: The frame.append method is deprecated and will be removed from pandas in a future version. Use pandas.concat instead.\n",
      "  tags_df = tags_df.append(df1)\n",
      "C:\\Users\\М\\AppData\\Local\\Temp\\ipykernel_3212\\696502254.py:9: FutureWarning: The frame.append method is deprecated and will be removed from pandas in a future version. Use pandas.concat instead.\n",
      "  tags_df = tags_df.append(df1)\n",
      "C:\\Users\\М\\AppData\\Local\\Temp\\ipykernel_3212\\696502254.py:9: FutureWarning: The frame.append method is deprecated and will be removed from pandas in a future version. Use pandas.concat instead.\n",
      "  tags_df = tags_df.append(df1)\n",
      "C:\\Users\\М\\AppData\\Local\\Temp\\ipykernel_3212\\696502254.py:9: FutureWarning: The frame.append method is deprecated and will be removed from pandas in a future version. Use pandas.concat instead.\n",
      "  tags_df = tags_df.append(df1)\n",
      "C:\\Users\\М\\AppData\\Local\\Temp\\ipykernel_3212\\696502254.py:9: FutureWarning: The frame.append method is deprecated and will be removed from pandas in a future version. Use pandas.concat instead.\n",
      "  tags_df = tags_df.append(df1)\n",
      "C:\\Users\\М\\AppData\\Local\\Temp\\ipykernel_3212\\696502254.py:9: FutureWarning: The frame.append method is deprecated and will be removed from pandas in a future version. Use pandas.concat instead.\n",
      "  tags_df = tags_df.append(df1)\n",
      "C:\\Users\\М\\AppData\\Local\\Temp\\ipykernel_3212\\696502254.py:9: FutureWarning: The frame.append method is deprecated and will be removed from pandas in a future version. Use pandas.concat instead.\n",
      "  tags_df = tags_df.append(df1)\n",
      "C:\\Users\\М\\AppData\\Local\\Temp\\ipykernel_3212\\696502254.py:9: FutureWarning: The frame.append method is deprecated and will be removed from pandas in a future version. Use pandas.concat instead.\n",
      "  tags_df = tags_df.append(df1)\n",
      "C:\\Users\\М\\AppData\\Local\\Temp\\ipykernel_3212\\696502254.py:9: FutureWarning: The frame.append method is deprecated and will be removed from pandas in a future version. Use pandas.concat instead.\n",
      "  tags_df = tags_df.append(df1)\n",
      "C:\\Users\\М\\AppData\\Local\\Temp\\ipykernel_3212\\696502254.py:9: FutureWarning: The frame.append method is deprecated and will be removed from pandas in a future version. Use pandas.concat instead.\n",
      "  tags_df = tags_df.append(df1)\n",
      "C:\\Users\\М\\AppData\\Local\\Temp\\ipykernel_3212\\696502254.py:9: FutureWarning: The frame.append method is deprecated and will be removed from pandas in a future version. Use pandas.concat instead.\n",
      "  tags_df = tags_df.append(df1)\n",
      "C:\\Users\\М\\AppData\\Local\\Temp\\ipykernel_3212\\696502254.py:9: FutureWarning: The frame.append method is deprecated and will be removed from pandas in a future version. Use pandas.concat instead.\n",
      "  tags_df = tags_df.append(df1)\n",
      "C:\\Users\\М\\AppData\\Local\\Temp\\ipykernel_3212\\696502254.py:9: FutureWarning: The frame.append method is deprecated and will be removed from pandas in a future version. Use pandas.concat instead.\n",
      "  tags_df = tags_df.append(df1)\n",
      "C:\\Users\\М\\AppData\\Local\\Temp\\ipykernel_3212\\696502254.py:9: FutureWarning: The frame.append method is deprecated and will be removed from pandas in a future version. Use pandas.concat instead.\n",
      "  tags_df = tags_df.append(df1)\n",
      "C:\\Users\\М\\AppData\\Local\\Temp\\ipykernel_3212\\696502254.py:9: FutureWarning: The frame.append method is deprecated and will be removed from pandas in a future version. Use pandas.concat instead.\n",
      "  tags_df = tags_df.append(df1)\n",
      "C:\\Users\\М\\AppData\\Local\\Temp\\ipykernel_3212\\696502254.py:9: FutureWarning: The frame.append method is deprecated and will be removed from pandas in a future version. Use pandas.concat instead.\n",
      "  tags_df = tags_df.append(df1)\n",
      "C:\\Users\\М\\AppData\\Local\\Temp\\ipykernel_3212\\696502254.py:9: FutureWarning: The frame.append method is deprecated and will be removed from pandas in a future version. Use pandas.concat instead.\n",
      "  tags_df = tags_df.append(df1)\n",
      "C:\\Users\\М\\AppData\\Local\\Temp\\ipykernel_3212\\696502254.py:9: FutureWarning: The frame.append method is deprecated and will be removed from pandas in a future version. Use pandas.concat instead.\n",
      "  tags_df = tags_df.append(df1)\n",
      "C:\\Users\\М\\AppData\\Local\\Temp\\ipykernel_3212\\696502254.py:9: FutureWarning: The frame.append method is deprecated and will be removed from pandas in a future version. Use pandas.concat instead.\n",
      "  tags_df = tags_df.append(df1)\n",
      "C:\\Users\\М\\AppData\\Local\\Temp\\ipykernel_3212\\696502254.py:9: FutureWarning: The frame.append method is deprecated and will be removed from pandas in a future version. Use pandas.concat instead.\n",
      "  tags_df = tags_df.append(df1)\n",
      "C:\\Users\\М\\AppData\\Local\\Temp\\ipykernel_3212\\696502254.py:9: FutureWarning: The frame.append method is deprecated and will be removed from pandas in a future version. Use pandas.concat instead.\n",
      "  tags_df = tags_df.append(df1)\n",
      "C:\\Users\\М\\AppData\\Local\\Temp\\ipykernel_3212\\696502254.py:9: FutureWarning: The frame.append method is deprecated and will be removed from pandas in a future version. Use pandas.concat instead.\n",
      "  tags_df = tags_df.append(df1)\n",
      "C:\\Users\\М\\AppData\\Local\\Temp\\ipykernel_3212\\696502254.py:9: FutureWarning: The frame.append method is deprecated and will be removed from pandas in a future version. Use pandas.concat instead.\n",
      "  tags_df = tags_df.append(df1)\n",
      "C:\\Users\\М\\AppData\\Local\\Temp\\ipykernel_3212\\696502254.py:9: FutureWarning: The frame.append method is deprecated and will be removed from pandas in a future version. Use pandas.concat instead.\n",
      "  tags_df = tags_df.append(df1)\n",
      "C:\\Users\\М\\AppData\\Local\\Temp\\ipykernel_3212\\696502254.py:9: FutureWarning: The frame.append method is deprecated and will be removed from pandas in a future version. Use pandas.concat instead.\n",
      "  tags_df = tags_df.append(df1)\n",
      "C:\\Users\\М\\AppData\\Local\\Temp\\ipykernel_3212\\696502254.py:9: FutureWarning: The frame.append method is deprecated and will be removed from pandas in a future version. Use pandas.concat instead.\n",
      "  tags_df = tags_df.append(df1)\n",
      "C:\\Users\\М\\AppData\\Local\\Temp\\ipykernel_3212\\696502254.py:9: FutureWarning: The frame.append method is deprecated and will be removed from pandas in a future version. Use pandas.concat instead.\n",
      "  tags_df = tags_df.append(df1)\n",
      "C:\\Users\\М\\AppData\\Local\\Temp\\ipykernel_3212\\696502254.py:9: FutureWarning: The frame.append method is deprecated and will be removed from pandas in a future version. Use pandas.concat instead.\n",
      "  tags_df = tags_df.append(df1)\n",
      "C:\\Users\\М\\AppData\\Local\\Temp\\ipykernel_3212\\696502254.py:9: FutureWarning: The frame.append method is deprecated and will be removed from pandas in a future version. Use pandas.concat instead.\n",
      "  tags_df = tags_df.append(df1)\n",
      "C:\\Users\\М\\AppData\\Local\\Temp\\ipykernel_3212\\696502254.py:9: FutureWarning: The frame.append method is deprecated and will be removed from pandas in a future version. Use pandas.concat instead.\n",
      "  tags_df = tags_df.append(df1)\n",
      "C:\\Users\\М\\AppData\\Local\\Temp\\ipykernel_3212\\696502254.py:9: FutureWarning: The frame.append method is deprecated and will be removed from pandas in a future version. Use pandas.concat instead.\n",
      "  tags_df = tags_df.append(df1)\n",
      "C:\\Users\\М\\AppData\\Local\\Temp\\ipykernel_3212\\696502254.py:9: FutureWarning: The frame.append method is deprecated and will be removed from pandas in a future version. Use pandas.concat instead.\n",
      "  tags_df = tags_df.append(df1)\n",
      "C:\\Users\\М\\AppData\\Local\\Temp\\ipykernel_3212\\696502254.py:9: FutureWarning: The frame.append method is deprecated and will be removed from pandas in a future version. Use pandas.concat instead.\n",
      "  tags_df = tags_df.append(df1)\n",
      "C:\\Users\\М\\AppData\\Local\\Temp\\ipykernel_3212\\696502254.py:9: FutureWarning: The frame.append method is deprecated and will be removed from pandas in a future version. Use pandas.concat instead.\n",
      "  tags_df = tags_df.append(df1)\n",
      "C:\\Users\\М\\AppData\\Local\\Temp\\ipykernel_3212\\696502254.py:9: FutureWarning: The frame.append method is deprecated and will be removed from pandas in a future version. Use pandas.concat instead.\n",
      "  tags_df = tags_df.append(df1)\n",
      "C:\\Users\\М\\AppData\\Local\\Temp\\ipykernel_3212\\696502254.py:9: FutureWarning: The frame.append method is deprecated and will be removed from pandas in a future version. Use pandas.concat instead.\n",
      "  tags_df = tags_df.append(df1)\n",
      "C:\\Users\\М\\AppData\\Local\\Temp\\ipykernel_3212\\696502254.py:9: FutureWarning: The frame.append method is deprecated and will be removed from pandas in a future version. Use pandas.concat instead.\n",
      "  tags_df = tags_df.append(df1)\n",
      "C:\\Users\\М\\AppData\\Local\\Temp\\ipykernel_3212\\696502254.py:9: FutureWarning: The frame.append method is deprecated and will be removed from pandas in a future version. Use pandas.concat instead.\n",
      "  tags_df = tags_df.append(df1)\n",
      "C:\\Users\\М\\AppData\\Local\\Temp\\ipykernel_3212\\696502254.py:9: FutureWarning: The frame.append method is deprecated and will be removed from pandas in a future version. Use pandas.concat instead.\n",
      "  tags_df = tags_df.append(df1)\n",
      "C:\\Users\\М\\AppData\\Local\\Temp\\ipykernel_3212\\696502254.py:9: FutureWarning: The frame.append method is deprecated and will be removed from pandas in a future version. Use pandas.concat instead.\n",
      "  tags_df = tags_df.append(df1)\n",
      "C:\\Users\\М\\AppData\\Local\\Temp\\ipykernel_3212\\696502254.py:9: FutureWarning: The frame.append method is deprecated and will be removed from pandas in a future version. Use pandas.concat instead.\n",
      "  tags_df = tags_df.append(df1)\n",
      "C:\\Users\\М\\AppData\\Local\\Temp\\ipykernel_3212\\696502254.py:9: FutureWarning: The frame.append method is deprecated and will be removed from pandas in a future version. Use pandas.concat instead.\n",
      "  tags_df = tags_df.append(df1)\n",
      "C:\\Users\\М\\AppData\\Local\\Temp\\ipykernel_3212\\696502254.py:9: FutureWarning: The frame.append method is deprecated and will be removed from pandas in a future version. Use pandas.concat instead.\n",
      "  tags_df = tags_df.append(df1)\n",
      "C:\\Users\\М\\AppData\\Local\\Temp\\ipykernel_3212\\696502254.py:9: FutureWarning: The frame.append method is deprecated and will be removed from pandas in a future version. Use pandas.concat instead.\n",
      "  tags_df = tags_df.append(df1)\n",
      "C:\\Users\\М\\AppData\\Local\\Temp\\ipykernel_3212\\696502254.py:9: FutureWarning: The frame.append method is deprecated and will be removed from pandas in a future version. Use pandas.concat instead.\n",
      "  tags_df = tags_df.append(df1)\n",
      "C:\\Users\\М\\AppData\\Local\\Temp\\ipykernel_3212\\696502254.py:9: FutureWarning: The frame.append method is deprecated and will be removed from pandas in a future version. Use pandas.concat instead.\n",
      "  tags_df = tags_df.append(df1)\n",
      "C:\\Users\\М\\AppData\\Local\\Temp\\ipykernel_3212\\696502254.py:9: FutureWarning: The frame.append method is deprecated and will be removed from pandas in a future version. Use pandas.concat instead.\n",
      "  tags_df = tags_df.append(df1)\n",
      "C:\\Users\\М\\AppData\\Local\\Temp\\ipykernel_3212\\696502254.py:9: FutureWarning: The frame.append method is deprecated and will be removed from pandas in a future version. Use pandas.concat instead.\n",
      "  tags_df = tags_df.append(df1)\n",
      "C:\\Users\\М\\AppData\\Local\\Temp\\ipykernel_3212\\696502254.py:9: FutureWarning: The frame.append method is deprecated and will be removed from pandas in a future version. Use pandas.concat instead.\n",
      "  tags_df = tags_df.append(df1)\n",
      "C:\\Users\\М\\AppData\\Local\\Temp\\ipykernel_3212\\696502254.py:9: FutureWarning: The frame.append method is deprecated and will be removed from pandas in a future version. Use pandas.concat instead.\n",
      "  tags_df = tags_df.append(df1)\n",
      "C:\\Users\\М\\AppData\\Local\\Temp\\ipykernel_3212\\696502254.py:9: FutureWarning: The frame.append method is deprecated and will be removed from pandas in a future version. Use pandas.concat instead.\n",
      "  tags_df = tags_df.append(df1)\n",
      "C:\\Users\\М\\AppData\\Local\\Temp\\ipykernel_3212\\696502254.py:9: FutureWarning: The frame.append method is deprecated and will be removed from pandas in a future version. Use pandas.concat instead.\n",
      "  tags_df = tags_df.append(df1)\n",
      "C:\\Users\\М\\AppData\\Local\\Temp\\ipykernel_3212\\696502254.py:9: FutureWarning: The frame.append method is deprecated and will be removed from pandas in a future version. Use pandas.concat instead.\n",
      "  tags_df = tags_df.append(df1)\n",
      "C:\\Users\\М\\AppData\\Local\\Temp\\ipykernel_3212\\696502254.py:9: FutureWarning: The frame.append method is deprecated and will be removed from pandas in a future version. Use pandas.concat instead.\n",
      "  tags_df = tags_df.append(df1)\n",
      "C:\\Users\\М\\AppData\\Local\\Temp\\ipykernel_3212\\696502254.py:9: FutureWarning: The frame.append method is deprecated and will be removed from pandas in a future version. Use pandas.concat instead.\n",
      "  tags_df = tags_df.append(df1)\n",
      "C:\\Users\\М\\AppData\\Local\\Temp\\ipykernel_3212\\696502254.py:9: FutureWarning: The frame.append method is deprecated and will be removed from pandas in a future version. Use pandas.concat instead.\n",
      "  tags_df = tags_df.append(df1)\n",
      "C:\\Users\\М\\AppData\\Local\\Temp\\ipykernel_3212\\696502254.py:9: FutureWarning: The frame.append method is deprecated and will be removed from pandas in a future version. Use pandas.concat instead.\n",
      "  tags_df = tags_df.append(df1)\n",
      "C:\\Users\\М\\AppData\\Local\\Temp\\ipykernel_3212\\696502254.py:9: FutureWarning: The frame.append method is deprecated and will be removed from pandas in a future version. Use pandas.concat instead.\n",
      "  tags_df = tags_df.append(df1)\n",
      "C:\\Users\\М\\AppData\\Local\\Temp\\ipykernel_3212\\696502254.py:9: FutureWarning: The frame.append method is deprecated and will be removed from pandas in a future version. Use pandas.concat instead.\n",
      "  tags_df = tags_df.append(df1)\n",
      "C:\\Users\\М\\AppData\\Local\\Temp\\ipykernel_3212\\696502254.py:9: FutureWarning: The frame.append method is deprecated and will be removed from pandas in a future version. Use pandas.concat instead.\n",
      "  tags_df = tags_df.append(df1)\n",
      "C:\\Users\\М\\AppData\\Local\\Temp\\ipykernel_3212\\696502254.py:9: FutureWarning: The frame.append method is deprecated and will be removed from pandas in a future version. Use pandas.concat instead.\n",
      "  tags_df = tags_df.append(df1)\n",
      "C:\\Users\\М\\AppData\\Local\\Temp\\ipykernel_3212\\696502254.py:9: FutureWarning: The frame.append method is deprecated and will be removed from pandas in a future version. Use pandas.concat instead.\n",
      "  tags_df = tags_df.append(df1)\n",
      "C:\\Users\\М\\AppData\\Local\\Temp\\ipykernel_3212\\696502254.py:9: FutureWarning: The frame.append method is deprecated and will be removed from pandas in a future version. Use pandas.concat instead.\n",
      "  tags_df = tags_df.append(df1)\n",
      "C:\\Users\\М\\AppData\\Local\\Temp\\ipykernel_3212\\696502254.py:9: FutureWarning: The frame.append method is deprecated and will be removed from pandas in a future version. Use pandas.concat instead.\n",
      "  tags_df = tags_df.append(df1)\n",
      "C:\\Users\\М\\AppData\\Local\\Temp\\ipykernel_3212\\696502254.py:9: FutureWarning: The frame.append method is deprecated and will be removed from pandas in a future version. Use pandas.concat instead.\n",
      "  tags_df = tags_df.append(df1)\n",
      "C:\\Users\\М\\AppData\\Local\\Temp\\ipykernel_3212\\696502254.py:9: FutureWarning: The frame.append method is deprecated and will be removed from pandas in a future version. Use pandas.concat instead.\n",
      "  tags_df = tags_df.append(df1)\n",
      "C:\\Users\\М\\AppData\\Local\\Temp\\ipykernel_3212\\696502254.py:9: FutureWarning: The frame.append method is deprecated and will be removed from pandas in a future version. Use pandas.concat instead.\n",
      "  tags_df = tags_df.append(df1)\n",
      "C:\\Users\\М\\AppData\\Local\\Temp\\ipykernel_3212\\696502254.py:9: FutureWarning: The frame.append method is deprecated and will be removed from pandas in a future version. Use pandas.concat instead.\n",
      "  tags_df = tags_df.append(df1)\n",
      "C:\\Users\\М\\AppData\\Local\\Temp\\ipykernel_3212\\696502254.py:9: FutureWarning: The frame.append method is deprecated and will be removed from pandas in a future version. Use pandas.concat instead.\n",
      "  tags_df = tags_df.append(df1)\n",
      "C:\\Users\\М\\AppData\\Local\\Temp\\ipykernel_3212\\696502254.py:9: FutureWarning: The frame.append method is deprecated and will be removed from pandas in a future version. Use pandas.concat instead.\n",
      "  tags_df = tags_df.append(df1)\n",
      "C:\\Users\\М\\AppData\\Local\\Temp\\ipykernel_3212\\696502254.py:9: FutureWarning: The frame.append method is deprecated and will be removed from pandas in a future version. Use pandas.concat instead.\n",
      "  tags_df = tags_df.append(df1)\n",
      "C:\\Users\\М\\AppData\\Local\\Temp\\ipykernel_3212\\696502254.py:9: FutureWarning: The frame.append method is deprecated and will be removed from pandas in a future version. Use pandas.concat instead.\n",
      "  tags_df = tags_df.append(df1)\n",
      "C:\\Users\\М\\AppData\\Local\\Temp\\ipykernel_3212\\696502254.py:9: FutureWarning: The frame.append method is deprecated and will be removed from pandas in a future version. Use pandas.concat instead.\n",
      "  tags_df = tags_df.append(df1)\n",
      "C:\\Users\\М\\AppData\\Local\\Temp\\ipykernel_3212\\696502254.py:9: FutureWarning: The frame.append method is deprecated and will be removed from pandas in a future version. Use pandas.concat instead.\n",
      "  tags_df = tags_df.append(df1)\n",
      "C:\\Users\\М\\AppData\\Local\\Temp\\ipykernel_3212\\696502254.py:9: FutureWarning: The frame.append method is deprecated and will be removed from pandas in a future version. Use pandas.concat instead.\n",
      "  tags_df = tags_df.append(df1)\n",
      "C:\\Users\\М\\AppData\\Local\\Temp\\ipykernel_3212\\696502254.py:9: FutureWarning: The frame.append method is deprecated and will be removed from pandas in a future version. Use pandas.concat instead.\n",
      "  tags_df = tags_df.append(df1)\n",
      "C:\\Users\\М\\AppData\\Local\\Temp\\ipykernel_3212\\696502254.py:9: FutureWarning: The frame.append method is deprecated and will be removed from pandas in a future version. Use pandas.concat instead.\n",
      "  tags_df = tags_df.append(df1)\n",
      "C:\\Users\\М\\AppData\\Local\\Temp\\ipykernel_3212\\696502254.py:9: FutureWarning: The frame.append method is deprecated and will be removed from pandas in a future version. Use pandas.concat instead.\n",
      "  tags_df = tags_df.append(df1)\n",
      "C:\\Users\\М\\AppData\\Local\\Temp\\ipykernel_3212\\696502254.py:9: FutureWarning: The frame.append method is deprecated and will be removed from pandas in a future version. Use pandas.concat instead.\n",
      "  tags_df = tags_df.append(df1)\n",
      "C:\\Users\\М\\AppData\\Local\\Temp\\ipykernel_3212\\696502254.py:9: FutureWarning: The frame.append method is deprecated and will be removed from pandas in a future version. Use pandas.concat instead.\n",
      "  tags_df = tags_df.append(df1)\n",
      "C:\\Users\\М\\AppData\\Local\\Temp\\ipykernel_3212\\696502254.py:9: FutureWarning: The frame.append method is deprecated and will be removed from pandas in a future version. Use pandas.concat instead.\n",
      "  tags_df = tags_df.append(df1)\n",
      "C:\\Users\\М\\AppData\\Local\\Temp\\ipykernel_3212\\696502254.py:9: FutureWarning: The frame.append method is deprecated and will be removed from pandas in a future version. Use pandas.concat instead.\n",
      "  tags_df = tags_df.append(df1)\n",
      "C:\\Users\\М\\AppData\\Local\\Temp\\ipykernel_3212\\696502254.py:9: FutureWarning: The frame.append method is deprecated and will be removed from pandas in a future version. Use pandas.concat instead.\n",
      "  tags_df = tags_df.append(df1)\n",
      "C:\\Users\\М\\AppData\\Local\\Temp\\ipykernel_3212\\696502254.py:9: FutureWarning: The frame.append method is deprecated and will be removed from pandas in a future version. Use pandas.concat instead.\n",
      "  tags_df = tags_df.append(df1)\n",
      "C:\\Users\\М\\AppData\\Local\\Temp\\ipykernel_3212\\696502254.py:9: FutureWarning: The frame.append method is deprecated and will be removed from pandas in a future version. Use pandas.concat instead.\n",
      "  tags_df = tags_df.append(df1)\n",
      "C:\\Users\\М\\AppData\\Local\\Temp\\ipykernel_3212\\696502254.py:9: FutureWarning: The frame.append method is deprecated and will be removed from pandas in a future version. Use pandas.concat instead.\n",
      "  tags_df = tags_df.append(df1)\n",
      "C:\\Users\\М\\AppData\\Local\\Temp\\ipykernel_3212\\696502254.py:9: FutureWarning: The frame.append method is deprecated and will be removed from pandas in a future version. Use pandas.concat instead.\n",
      "  tags_df = tags_df.append(df1)\n",
      "C:\\Users\\М\\AppData\\Local\\Temp\\ipykernel_3212\\696502254.py:9: FutureWarning: The frame.append method is deprecated and will be removed from pandas in a future version. Use pandas.concat instead.\n",
      "  tags_df = tags_df.append(df1)\n",
      "C:\\Users\\М\\AppData\\Local\\Temp\\ipykernel_3212\\696502254.py:9: FutureWarning: The frame.append method is deprecated and will be removed from pandas in a future version. Use pandas.concat instead.\n",
      "  tags_df = tags_df.append(df1)\n",
      "C:\\Users\\М\\AppData\\Local\\Temp\\ipykernel_3212\\696502254.py:9: FutureWarning: The frame.append method is deprecated and will be removed from pandas in a future version. Use pandas.concat instead.\n",
      "  tags_df = tags_df.append(df1)\n",
      "C:\\Users\\М\\AppData\\Local\\Temp\\ipykernel_3212\\696502254.py:9: FutureWarning: The frame.append method is deprecated and will be removed from pandas in a future version. Use pandas.concat instead.\n",
      "  tags_df = tags_df.append(df1)\n",
      "C:\\Users\\М\\AppData\\Local\\Temp\\ipykernel_3212\\696502254.py:9: FutureWarning: The frame.append method is deprecated and will be removed from pandas in a future version. Use pandas.concat instead.\n",
      "  tags_df = tags_df.append(df1)\n",
      "C:\\Users\\М\\AppData\\Local\\Temp\\ipykernel_3212\\696502254.py:9: FutureWarning: The frame.append method is deprecated and will be removed from pandas in a future version. Use pandas.concat instead.\n",
      "  tags_df = tags_df.append(df1)\n",
      "C:\\Users\\М\\AppData\\Local\\Temp\\ipykernel_3212\\696502254.py:9: FutureWarning: The frame.append method is deprecated and will be removed from pandas in a future version. Use pandas.concat instead.\n",
      "  tags_df = tags_df.append(df1)\n",
      "C:\\Users\\М\\AppData\\Local\\Temp\\ipykernel_3212\\696502254.py:9: FutureWarning: The frame.append method is deprecated and will be removed from pandas in a future version. Use pandas.concat instead.\n",
      "  tags_df = tags_df.append(df1)\n",
      "C:\\Users\\М\\AppData\\Local\\Temp\\ipykernel_3212\\696502254.py:9: FutureWarning: The frame.append method is deprecated and will be removed from pandas in a future version. Use pandas.concat instead.\n",
      "  tags_df = tags_df.append(df1)\n",
      "C:\\Users\\М\\AppData\\Local\\Temp\\ipykernel_3212\\696502254.py:9: FutureWarning: The frame.append method is deprecated and will be removed from pandas in a future version. Use pandas.concat instead.\n",
      "  tags_df = tags_df.append(df1)\n",
      "C:\\Users\\М\\AppData\\Local\\Temp\\ipykernel_3212\\696502254.py:9: FutureWarning: The frame.append method is deprecated and will be removed from pandas in a future version. Use pandas.concat instead.\n",
      "  tags_df = tags_df.append(df1)\n",
      "C:\\Users\\М\\AppData\\Local\\Temp\\ipykernel_3212\\696502254.py:9: FutureWarning: The frame.append method is deprecated and will be removed from pandas in a future version. Use pandas.concat instead.\n",
      "  tags_df = tags_df.append(df1)\n",
      "C:\\Users\\М\\AppData\\Local\\Temp\\ipykernel_3212\\696502254.py:9: FutureWarning: The frame.append method is deprecated and will be removed from pandas in a future version. Use pandas.concat instead.\n",
      "  tags_df = tags_df.append(df1)\n",
      "C:\\Users\\М\\AppData\\Local\\Temp\\ipykernel_3212\\696502254.py:9: FutureWarning: The frame.append method is deprecated and will be removed from pandas in a future version. Use pandas.concat instead.\n",
      "  tags_df = tags_df.append(df1)\n",
      "C:\\Users\\М\\AppData\\Local\\Temp\\ipykernel_3212\\696502254.py:9: FutureWarning: The frame.append method is deprecated and will be removed from pandas in a future version. Use pandas.concat instead.\n",
      "  tags_df = tags_df.append(df1)\n",
      "C:\\Users\\М\\AppData\\Local\\Temp\\ipykernel_3212\\696502254.py:9: FutureWarning: The frame.append method is deprecated and will be removed from pandas in a future version. Use pandas.concat instead.\n",
      "  tags_df = tags_df.append(df1)\n",
      "C:\\Users\\М\\AppData\\Local\\Temp\\ipykernel_3212\\696502254.py:9: FutureWarning: The frame.append method is deprecated and will be removed from pandas in a future version. Use pandas.concat instead.\n",
      "  tags_df = tags_df.append(df1)\n",
      "C:\\Users\\М\\AppData\\Local\\Temp\\ipykernel_3212\\696502254.py:9: FutureWarning: The frame.append method is deprecated and will be removed from pandas in a future version. Use pandas.concat instead.\n",
      "  tags_df = tags_df.append(df1)\n",
      "C:\\Users\\М\\AppData\\Local\\Temp\\ipykernel_3212\\696502254.py:9: FutureWarning: The frame.append method is deprecated and will be removed from pandas in a future version. Use pandas.concat instead.\n",
      "  tags_df = tags_df.append(df1)\n",
      "C:\\Users\\М\\AppData\\Local\\Temp\\ipykernel_3212\\696502254.py:9: FutureWarning: The frame.append method is deprecated and will be removed from pandas in a future version. Use pandas.concat instead.\n",
      "  tags_df = tags_df.append(df1)\n"
     ]
    },
    {
     "data": {
      "text/html": [
       "<div>\n",
       "<style scoped>\n",
       "    .dataframe tbody tr th:only-of-type {\n",
       "        vertical-align: middle;\n",
       "    }\n",
       "\n",
       "    .dataframe tbody tr th {\n",
       "        vertical-align: top;\n",
       "    }\n",
       "\n",
       "    .dataframe thead th {\n",
       "        text-align: right;\n",
       "    }\n",
       "</style>\n",
       "<table border=\"1\" class=\"dataframe\">\n",
       "  <thead>\n",
       "    <tr style=\"text-align: right;\">\n",
       "      <th></th>\n",
       "      <th>wrong</th>\n",
       "      <th>right</th>\n",
       "      <th>total_questions</th>\n",
       "      <th>question_ids_with_tag</th>\n",
       "      <th>percent_correct</th>\n",
       "    </tr>\n",
       "    <tr>\n",
       "      <th>tag</th>\n",
       "      <th></th>\n",
       "      <th></th>\n",
       "      <th></th>\n",
       "      <th></th>\n",
       "      <th></th>\n",
       "    </tr>\n",
       "  </thead>\n",
       "  <tbody>\n",
       "    <tr>\n",
       "      <th>24</th>\n",
       "      <td>1523</td>\n",
       "      <td>949</td>\n",
       "      <td>2472</td>\n",
       "      <td>17</td>\n",
       "      <td>0.383900</td>\n",
       "    </tr>\n",
       "    <tr>\n",
       "      <th>19</th>\n",
       "      <td>1746</td>\n",
       "      <td>1342</td>\n",
       "      <td>3088</td>\n",
       "      <td>57</td>\n",
       "      <td>0.434585</td>\n",
       "    </tr>\n",
       "    <tr>\n",
       "      <th>23</th>\n",
       "      <td>2510</td>\n",
       "      <td>2033</td>\n",
       "      <td>4543</td>\n",
       "      <td>11</td>\n",
       "      <td>0.447502</td>\n",
       "    </tr>\n",
       "    <tr>\n",
       "      <th>186</th>\n",
       "      <td>40</td>\n",
       "      <td>36</td>\n",
       "      <td>76</td>\n",
       "      <td>3</td>\n",
       "      <td>0.473684</td>\n",
       "    </tr>\n",
       "    <tr>\n",
       "      <th>151</th>\n",
       "      <td>2677</td>\n",
       "      <td>2495</td>\n",
       "      <td>5172</td>\n",
       "      <td>16</td>\n",
       "      <td>0.482405</td>\n",
       "    </tr>\n",
       "  </tbody>\n",
       "</table>\n",
       "</div>"
      ],
      "text/plain": [
       "     wrong  right  total_questions  question_ids_with_tag  percent_correct\n",
       "tag                                                                       \n",
       "24    1523    949             2472                     17         0.383900\n",
       "19    1746   1342             3088                     57         0.434585\n",
       "23    2510   2033             4543                     11         0.447502\n",
       "186     40     36               76                      3         0.473684\n",
       "151   2677   2495             5172                     16         0.482405"
      ]
     },
     "execution_count": 32,
     "metadata": {},
     "output_type": "execute_result"
    }
   ],
   "source": [
    "tags_df = pd.DataFrame()\n",
    "for x in range(len(tags)):\n",
    "    df = questions[questions.tags.apply(lambda l: tags[x] in l)]\n",
    "    df1 = df.agg({'wrong': ['sum'], 'right': ['sum']})\n",
    "    df1['total_questions'] = df1.wrong + df1.right\n",
    "    df1['question_ids_with_tag'] = len(df)\n",
    "    df1['tag'] = tags[x]\n",
    "    df1 = df1.set_index('tag')\n",
    "    tags_df = tags_df.append(df1)\n",
    "\n",
    "tags_df[['wrong', 'right', 'total_questions']] = tags_df[['wrong', 'right', 'total_questions']].astype(int)\n",
    "tags_df['percent_correct'] = tags_df.right/tags_df.total_questions\n",
    "tags_df = tags_df.sort_values(by = \"percent_correct\")\n",
    "\n",
    "tags_df.head()"
   ]
  },
  {
   "cell_type": "markdown",
   "id": "880b58f3",
   "metadata": {},
   "source": [
    "Посмотрим топ-10 самых сложных и топ-10 самых легких вопросов по тэгам"
   ]
  },
  {
   "cell_type": "code",
   "execution_count": 33,
   "id": "c64140f5",
   "metadata": {},
   "outputs": [
    {
     "data": {
      "image/png": "[encoded data removed]",
      "text/plain": [
       "<Figure size 864x432 with 1 Axes>"
      ]
     },
     "metadata": {
      "needs_background": "light"
     },
     "output_type": "display_data"
    }
   ],
   "source": [
    "select_rows = list(range(0,10)) + list(range(178, len(tags_df)))\n",
    "tags_select = tags_df.iloc[select_rows,4]\n",
    "\n",
    "fig = plt.figure(figsize=(12,6))\n",
    "x = tags_select.index\n",
    "y = tags_select.values\n",
    "clrs = ['red' if y < 0.6 else 'green' for y in tags_select.values]\n",
    "tags_select.plot.bar(x, y, color=clrs)\n",
    "plt.title(\"Ten hardest and ten easiest tags\")\n",
    "plt.xlabel(\"Tag\")\n",
    "plt.ylabel(\"Percent answers correct of questions with the tag\")\n",
    "plt.xticks(rotation=90)\n",
    "plt.show()"
   ]
  },
  {
   "cell_type": "markdown",
   "id": "1518ae62",
   "metadata": {},
   "source": [
    "## 3.3. Таблица lectures"
   ]
  },
  {
   "cell_type": "markdown",
   "id": "052f8948",
   "metadata": {},
   "source": [
    "Проведем анализ таблицы **lectures**"
   ]
  },
  {
   "cell_type": "code",
   "execution_count": 34,
   "id": "98cdea25",
   "metadata": {},
   "outputs": [
    {
     "data": {
      "text/plain": [
       "418"
      ]
     },
     "execution_count": 34,
     "metadata": {},
     "output_type": "execute_result"
    }
   ],
   "source": [
    "lectures.shape[0]"
   ]
  },
  {
   "cell_type": "markdown",
   "id": "51433cb3",
   "metadata": {},
   "source": [
    "Всего в базе сведения о **418 лекций**"
   ]
  },
  {
   "cell_type": "markdown",
   "id": "3a2fbc17",
   "metadata": {},
   "source": [
    "**Распределение по типам лекций**"
   ]
  },
  {
   "cell_type": "code",
   "execution_count": 35,
   "id": "f3ae05d7",
   "metadata": {},
   "outputs": [
    {
     "data": {
      "image/png": "[encoded data removed]",
      "text/plain": [
       "<Figure size 864x432 with 1 Axes>"
      ]
     },
     "metadata": {
      "needs_background": "light"
     },
     "output_type": "display_data"
    }
   ],
   "source": [
    "lect_type_of = lectures.type_of.value_counts()\n",
    "\n",
    "fig = plt.figure(figsize=(12,6))\n",
    "plt.bar(lect_type_of.index, lect_type_of.values)\n",
    "for i, v in zip(lect_type_of.index, lect_type_of.values):\n",
    "    plt.text(i, v, v, color='black', fontweight='bold', fontsize=14, va='bottom', ha='center')\n",
    "plt.title(\"Типы лекций\")\n",
    "plt.xlabel(\"Тип\")\n",
    "plt.ylabel(\"Количество лекций\")\n",
    "plt.xticks(rotation=0)\n",
    "plt.show()"
   ]
  },
  {
   "cell_type": "markdown",
   "id": "f5c6526a",
   "metadata": {},
   "source": [
    "В лидерах **обычные** лекции и лекции с **решением задач**. Доля лекций типа **целепологания** и **вводных лекций** незначительна.\n"
   ]
  },
  {
   "cell_type": "markdown",
   "id": "28e65cf1",
   "metadata": {},
   "source": [
    "# 4. Выводы"
   ]
  },
  {
   "cell_type": "markdown",
   "id": "9e48381a",
   "metadata": {},
   "source": [
    "+ Всего в представленной выборке присутствует информация об активности **3824 студентов**;\n",
    "\n",
    "\n",
    "+ На платформе **13523 вопросов** и **418 лекций** по **7 темам**;\n",
    "\n",
    "\n",
    "+ Лекции бывают **4 типов**: вводные, целеполагательные, концептуальное изложение материала и решение задач.\n",
    "\n",
    "\n",
    "+ В среднем на ответ на вопрос у студентов уходит **25 секунд**;\n",
    "\n",
    "\n",
    "+ **98%** активновти студентов приходится на ответы на вопросы, только **2%** тратится на просмотр лекций;\n",
    "\n",
    "\n",
    "+ **65%** составляют правильные ответы, **35%** - неправильные.\n",
    "\n",
    "\n",
    "+ Чем ближе к началу сессии вопрос, тем менее **успешно** его проходят студенты (т.е. успешность коррелирует со временем, проведенным на платформе)\n",
    "\n",
    "\n",
    "+ Время ответа на вопрос **не влияет** на правильный ответ;\n",
    "\n",
    "\n",
    "+ Если студент видел объяснение предыдущий задачи, он **в 2 раза чаще** отвечает правильно, чем неправильно"
   ]
  }
 ],
 "metadata": {
  "kernelspec": {
   "display_name": "Python 3 (ipykernel)",
   "language": "python",
   "name": "python3"
  },
  "language_info": {
   "codemirror_mode": {
    "name": "ipython",
    "version": 3
   },
   "file_extension": ".py",
   "mimetype": "text/x-python",
   "name": "python",
   "nbconvert_exporter": "python",
   "pygments_lexer": "ipython3",
   "version": "3.9.12"
  }
 },
 "nbformat": 4,
 "nbformat_minor": 5
}
